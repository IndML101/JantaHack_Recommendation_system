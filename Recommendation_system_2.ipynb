{
  "nbformat": 4,
  "nbformat_minor": 0,
  "metadata": {
    "kernelspec": {
      "display_name": "Python 3",
      "language": "python",
      "name": "python3"
    },
    "language_info": {
      "codemirror_mode": {
        "name": "ipython",
        "version": 3
      },
      "file_extension": ".py",
      "mimetype": "text/x-python",
      "name": "python",
      "nbconvert_exporter": "python",
      "pygments_lexer": "ipython3",
      "version": "3.8.2"
    },
    "colab": {
      "name": "Recommendation_system.ipynb",
      "provenance": [],
      "collapsed_sections": [],
      "toc_visible": true
    },
    "accelerator": "GPU"
  },
  "cells": [
    {
      "cell_type": "markdown",
      "metadata": {
        "id": "MT7orVj0rBrK",
        "colab_type": "text"
      },
      "source": [
        "# Sequence Aware Recommender System"
      ]
    },
    {
      "cell_type": "markdown",
      "metadata": {
        "id": "zdp7wYx8rBrM",
        "colab_type": "text"
      },
      "source": [
        "## Import libraries"
      ]
    },
    {
      "cell_type": "code",
      "metadata": {
        "id": "d1edCv9crBrN",
        "colab_type": "code",
        "colab": {}
      },
      "source": [
        "import sys, os, re\n",
        "import numpy as np\n",
        "import pandas as pd\n",
        "from tqdm import tqdm\n",
        "from google.colab import drive\n",
        "import warnings\n",
        "warnings.filterwarnings('ignore')\n",
        "import matplotlib.pyplot as plt\n",
        "import seaborn as sns\n",
        "# from jupyterthemes import jtplot\n",
        "import copy as cp\n",
        "import pickle as pkl"
      ],
      "execution_count": 1,
      "outputs": []
    },
    {
      "cell_type": "code",
      "metadata": {
        "id": "EGyTTV2FrBrR",
        "colab_type": "code",
        "colab": {}
      },
      "source": [
        "# from sklearn.preprocessing import StandardScaler\n",
        "# from sklearn.metrics import accuracy_score\n",
        "# from sklearn.metrics import confusion_matrix, classification_report\n",
        "# from sklearn.metrics import precision_recall_curve, auc, roc_auc_score, roc_curve, recall_score\n",
        "# from sklearn.model_selection import train_test_split\n",
        "# from sklearn.linear_model import LogisticRegression\n",
        "# from sklearn.svm import SVC, LinearSVC\n",
        "# from sklearn.ensemble import RandomForestClassifier\n",
        "# from sklearn.tree import DecisionTreeClassifier\n",
        "# from sklearn.naive_bayes import GaussianNB\n",
        "# from sklearn.neighbors import KNeighborsClassifier\n",
        "# from sklearn.neural_network import MLPClassifier\n",
        "# from sklearn.decomposition import PCA\n",
        "# from sklearn.manifold import TSNE\n",
        "# from sklearn.model_selection import GridSearchCV, RandomizedSearchCV\n",
        "# from xgboost import XGBClassifier, plot_importance\n",
        "# import lightgbm as lgb\n",
        "# import catboost as cb\n",
        "# from imblearn.over_sampling import SMOTE\n",
        "# from imblearn.under_sampling import RandomUnderSampler"
      ],
      "execution_count": 2,
      "outputs": []
    },
    {
      "cell_type": "code",
      "metadata": {
        "id": "r4Ls-xYjrBrV",
        "colab_type": "code",
        "colab": {
          "base_uri": "https://localhost:8080/",
          "height": 34
        },
        "outputId": "fdaf0df8-8f83-4c83-d2da-cbd80c345c79"
      },
      "source": [
        "from keras.models import Sequential\n",
        "from keras.layers import Dense, Dropout, Activation, Flatten, Embedding, TimeDistributed\n",
        "from keras.wrappers.scikit_learn import KerasClassifier\n",
        "from keras.optimizers import SGD, Adam, Adagrad, Adadelta, RMSprop\n",
        "from keras.layers import LSTM\n",
        "from keras.utils import to_categorical\n",
        "# from keras.layers import Conv2D, MaxPool2D, BatchNormalization\n",
        "# from keras.layers import Convolution2D, MaxPooling2D"
      ],
      "execution_count": 3,
      "outputs": [
        {
          "output_type": "stream",
          "text": [
            "Using TensorFlow backend.\n"
          ],
          "name": "stderr"
        }
      ]
    },
    {
      "cell_type": "code",
      "metadata": {
        "id": "IxW-uZWPrBrZ",
        "colab_type": "code",
        "colab": {}
      },
      "source": [
        "plt.style.use('dark_background')\n",
        "plt.axis('off')\n",
        "plt.grid(b=None)\n",
        "# set plot rc parameters\n",
        "# jtplot.style(grid=False)\n",
        "# plt.rcParams['figure.facecolor'] = '#464646'\n",
        "# plt.rcParams['axes.facecolor'] = '#464646'\n",
        "# plt.rcParams['savefig.facecolor'] = '#464646'\n",
        "# plt.rcParams['axes.edgecolor'] = '#232323'\n",
        "# plt.rcParams['figure.figsize'] = 10, 7\n",
        "# plt.rcParams['axes.labelcolor'] = '#666666'\n",
        "# plt.rcParams['xtick.color'] = '#666666'\n",
        "# plt.rcParams['xtick.labelsize'] = 12\n",
        "# plt.rcParams['axes.labelsize'] = 17\n",
        "# plt.rcParams['ytick.color'] = '#666666'\n",
        "# plt.rcParams['ytick.labelsize'] = 12\n",
        "# plt.rcParams['font.size'] = 16\n",
        "\n",
        "sns.color_palette('dark')\n",
        "%matplotlib inline"
      ],
      "execution_count": 4,
      "outputs": []
    },
    {
      "cell_type": "markdown",
      "metadata": {
        "id": "Wq86rbFyrBrd",
        "colab_type": "text"
      },
      "source": [
        "## Load Data"
      ]
    },
    {
      "cell_type": "code",
      "metadata": {
        "colab_type": "code",
        "id": "JTuKfmiWv9CJ",
        "colab": {
          "base_uri": "https://localhost:8080/",
          "height": 122
        },
        "outputId": "7093e705-3e6e-4ab1-91e6-4a9e6c41798d"
      },
      "source": [
        "drive.mount('/content/drive')"
      ],
      "execution_count": 5,
      "outputs": [
        {
          "output_type": "stream",
          "text": [
            "Go to this URL in a browser: https://accounts.google.com/o/oauth2/auth?client_id=947318989803-6bn6qk8qdgf4n4g3pfee6491hc0brc4i.apps.googleusercontent.com&redirect_uri=urn%3aietf%3awg%3aoauth%3a2.0%3aoob&response_type=code&scope=email%20https%3a%2f%2fwww.googleapis.com%2fauth%2fdocs.test%20https%3a%2f%2fwww.googleapis.com%2fauth%2fdrive%20https%3a%2f%2fwww.googleapis.com%2fauth%2fdrive.photos.readonly%20https%3a%2f%2fwww.googleapis.com%2fauth%2fpeopleapi.readonly\n",
            "\n",
            "Enter your authorization code:\n",
            "··········\n",
            "Mounted at /content/drive\n"
          ],
          "name": "stdout"
        }
      ]
    },
    {
      "cell_type": "code",
      "metadata": {
        "colab_type": "code",
        "id": "DF3YeaWPy1UG",
        "colab": {}
      },
      "source": [
        "train_dir = '/content/drive/My Drive/JantaHack Reccomendation systems/train'\n",
        "test_dir = '/content/drive/My Drive/JantaHack Reccomendation systems/test'"
      ],
      "execution_count": 6,
      "outputs": []
    },
    {
      "cell_type": "code",
      "metadata": {
        "id": "JSiMl-21rBrl",
        "colab_type": "code",
        "colab": {
          "base_uri": "https://localhost:8080/",
          "height": 34
        },
        "outputId": "85aaf0b7-7259-451a-cec8-64c8d6470926"
      },
      "source": [
        "train = pd.read_csv(train_dir+'/train.csv')\n",
        "challenges = pd.read_csv(train_dir+'/challenge_data.csv')\n",
        "test = pd.read_csv(test_dir+'/test.csv')\n",
        "\n",
        "# shape of all the data\n",
        "train.shape, test.shape, challenges.shape"
      ],
      "execution_count": 7,
      "outputs": [
        {
          "output_type": "execute_result",
          "data": {
            "text/plain": [
              "((903916, 4), (397320, 4), (5606, 9))"
            ]
          },
          "metadata": {
            "tags": []
          },
          "execution_count": 7
        }
      ]
    },
    {
      "cell_type": "markdown",
      "metadata": {
        "id": "NAMSY6nmrBrp",
        "colab_type": "text"
      },
      "source": [
        "## EDA"
      ]
    },
    {
      "cell_type": "markdown",
      "metadata": {
        "id": "ca2YDi4ArBrq",
        "colab_type": "text"
      },
      "source": [
        "### Train data"
      ]
    },
    {
      "cell_type": "code",
      "metadata": {
        "id": "023bhtOmrBrq",
        "colab_type": "code",
        "colab": {
          "base_uri": "https://localhost:8080/",
          "height": 204
        },
        "outputId": "a465d050-22bb-421f-9b45-ae1b6862e79d"
      },
      "source": [
        "train.head()"
      ],
      "execution_count": 8,
      "outputs": [
        {
          "output_type": "execute_result",
          "data": {
            "text/html": [
              "<div>\n",
              "<style scoped>\n",
              "    .dataframe tbody tr th:only-of-type {\n",
              "        vertical-align: middle;\n",
              "    }\n",
              "\n",
              "    .dataframe tbody tr th {\n",
              "        vertical-align: top;\n",
              "    }\n",
              "\n",
              "    .dataframe thead th {\n",
              "        text-align: right;\n",
              "    }\n",
              "</style>\n",
              "<table border=\"1\" class=\"dataframe\">\n",
              "  <thead>\n",
              "    <tr style=\"text-align: right;\">\n",
              "      <th></th>\n",
              "      <th>user_sequence</th>\n",
              "      <th>user_id</th>\n",
              "      <th>challenge_sequence</th>\n",
              "      <th>challenge</th>\n",
              "    </tr>\n",
              "  </thead>\n",
              "  <tbody>\n",
              "    <tr>\n",
              "      <th>0</th>\n",
              "      <td>4576_1</td>\n",
              "      <td>4576</td>\n",
              "      <td>1</td>\n",
              "      <td>CI23714</td>\n",
              "    </tr>\n",
              "    <tr>\n",
              "      <th>1</th>\n",
              "      <td>4576_2</td>\n",
              "      <td>4576</td>\n",
              "      <td>2</td>\n",
              "      <td>CI23855</td>\n",
              "    </tr>\n",
              "    <tr>\n",
              "      <th>2</th>\n",
              "      <td>4576_3</td>\n",
              "      <td>4576</td>\n",
              "      <td>3</td>\n",
              "      <td>CI24917</td>\n",
              "    </tr>\n",
              "    <tr>\n",
              "      <th>3</th>\n",
              "      <td>4576_4</td>\n",
              "      <td>4576</td>\n",
              "      <td>4</td>\n",
              "      <td>CI23663</td>\n",
              "    </tr>\n",
              "    <tr>\n",
              "      <th>4</th>\n",
              "      <td>4576_5</td>\n",
              "      <td>4576</td>\n",
              "      <td>5</td>\n",
              "      <td>CI23933</td>\n",
              "    </tr>\n",
              "  </tbody>\n",
              "</table>\n",
              "</div>"
            ],
            "text/plain": [
              "  user_sequence  user_id  challenge_sequence challenge\n",
              "0        4576_1     4576                   1   CI23714\n",
              "1        4576_2     4576                   2   CI23855\n",
              "2        4576_3     4576                   3   CI24917\n",
              "3        4576_4     4576                   4   CI23663\n",
              "4        4576_5     4576                   5   CI23933"
            ]
          },
          "metadata": {
            "tags": []
          },
          "execution_count": 8
        }
      ]
    },
    {
      "cell_type": "code",
      "metadata": {
        "id": "7q01KoaqrBru",
        "colab_type": "code",
        "colab": {
          "base_uri": "https://localhost:8080/",
          "height": 204
        },
        "outputId": "618e7a86-398c-4bc9-85a0-70107c062d86"
      },
      "source": [
        "# info regarding variables in train data\n",
        "train.info()"
      ],
      "execution_count": 9,
      "outputs": [
        {
          "output_type": "stream",
          "text": [
            "<class 'pandas.core.frame.DataFrame'>\n",
            "RangeIndex: 903916 entries, 0 to 903915\n",
            "Data columns (total 4 columns):\n",
            " #   Column              Non-Null Count   Dtype \n",
            "---  ------              --------------   ----- \n",
            " 0   user_sequence       903916 non-null  object\n",
            " 1   user_id             903916 non-null  int64 \n",
            " 2   challenge_sequence  903916 non-null  int64 \n",
            " 3   challenge           903916 non-null  object\n",
            "dtypes: int64(2), object(2)\n",
            "memory usage: 27.6+ MB\n"
          ],
          "name": "stdout"
        }
      ]
    },
    {
      "cell_type": "code",
      "metadata": {
        "id": "qb1wF-iprBrx",
        "colab_type": "code",
        "colab": {
          "base_uri": "https://localhost:8080/",
          "height": 34
        },
        "outputId": "fcadcd99-4832-4181-8d42-4d1b44c09456"
      },
      "source": [
        "# check for duplicates in train data\n",
        "train.shape, train['user_sequence'].unique().shape"
      ],
      "execution_count": 10,
      "outputs": [
        {
          "output_type": "execute_result",
          "data": {
            "text/plain": [
              "((903916, 4), (903916,))"
            ]
          },
          "metadata": {
            "tags": []
          },
          "execution_count": 10
        }
      ]
    },
    {
      "cell_type": "code",
      "metadata": {
        "id": "E-bMe9_ErBr1",
        "colab_type": "code",
        "colab": {
          "base_uri": "https://localhost:8080/",
          "height": 51
        },
        "outputId": "5356482f-7892-4c09-bab0-7ce6c321dd33"
      },
      "source": [
        "train['user_id'].unique().shape, train['user_id'].value_counts().value_counts()"
      ],
      "execution_count": 11,
      "outputs": [
        {
          "output_type": "execute_result",
          "data": {
            "text/plain": [
              "((69532,), 13    69532\n",
              " Name: user_id, dtype: int64)"
            ]
          },
          "metadata": {
            "tags": []
          },
          "execution_count": 11
        }
      ]
    },
    {
      "cell_type": "code",
      "metadata": {
        "id": "S5px1h89rBr4",
        "colab_type": "code",
        "colab": {
          "base_uri": "https://localhost:8080/",
          "height": 255
        },
        "outputId": "8999bc5a-68d0-41ce-a368-f3f86344844b"
      },
      "source": [
        "train['challenge_sequence'].unique().shape, train['challenge_sequence'].value_counts()"
      ],
      "execution_count": 12,
      "outputs": [
        {
          "output_type": "execute_result",
          "data": {
            "text/plain": [
              "((13,), 13    69532\n",
              " 12    69532\n",
              " 11    69532\n",
              " 10    69532\n",
              " 9     69532\n",
              " 8     69532\n",
              " 7     69532\n",
              " 6     69532\n",
              " 5     69532\n",
              " 4     69532\n",
              " 3     69532\n",
              " 2     69532\n",
              " 1     69532\n",
              " Name: challenge_sequence, dtype: int64)"
            ]
          },
          "metadata": {
            "tags": []
          },
          "execution_count": 12
        }
      ]
    },
    {
      "cell_type": "code",
      "metadata": {
        "id": "WTnr1PZgrBr7",
        "colab_type": "code",
        "colab": {
          "base_uri": "https://localhost:8080/",
          "height": 34
        },
        "outputId": "8ae65e75-fc76-45d8-ca86-e2a74afc5d67"
      },
      "source": [
        "train['challenge'].unique().shape"
      ],
      "execution_count": 13,
      "outputs": [
        {
          "output_type": "execute_result",
          "data": {
            "text/plain": [
              "(5348,)"
            ]
          },
          "metadata": {
            "tags": []
          },
          "execution_count": 13
        }
      ]
    },
    {
      "cell_type": "markdown",
      "metadata": {
        "id": "roVCtqFYrBr-",
        "colab_type": "text"
      },
      "source": [
        "### Test data"
      ]
    },
    {
      "cell_type": "code",
      "metadata": {
        "id": "YJCp3gF5rBr_",
        "colab_type": "code",
        "colab": {
          "base_uri": "https://localhost:8080/",
          "height": 204
        },
        "outputId": "57b2d2c2-845c-438e-bd4a-531739ab30c1"
      },
      "source": [
        "test.head()"
      ],
      "execution_count": 14,
      "outputs": [
        {
          "output_type": "execute_result",
          "data": {
            "text/html": [
              "<div>\n",
              "<style scoped>\n",
              "    .dataframe tbody tr th:only-of-type {\n",
              "        vertical-align: middle;\n",
              "    }\n",
              "\n",
              "    .dataframe tbody tr th {\n",
              "        vertical-align: top;\n",
              "    }\n",
              "\n",
              "    .dataframe thead th {\n",
              "        text-align: right;\n",
              "    }\n",
              "</style>\n",
              "<table border=\"1\" class=\"dataframe\">\n",
              "  <thead>\n",
              "    <tr style=\"text-align: right;\">\n",
              "      <th></th>\n",
              "      <th>user_sequence</th>\n",
              "      <th>user_id</th>\n",
              "      <th>challenge_sequence</th>\n",
              "      <th>challenge</th>\n",
              "    </tr>\n",
              "  </thead>\n",
              "  <tbody>\n",
              "    <tr>\n",
              "      <th>0</th>\n",
              "      <td>4577_1</td>\n",
              "      <td>4577</td>\n",
              "      <td>1</td>\n",
              "      <td>CI23855</td>\n",
              "    </tr>\n",
              "    <tr>\n",
              "      <th>1</th>\n",
              "      <td>4577_2</td>\n",
              "      <td>4577</td>\n",
              "      <td>2</td>\n",
              "      <td>CI23933</td>\n",
              "    </tr>\n",
              "    <tr>\n",
              "      <th>2</th>\n",
              "      <td>4577_3</td>\n",
              "      <td>4577</td>\n",
              "      <td>3</td>\n",
              "      <td>CI24917</td>\n",
              "    </tr>\n",
              "    <tr>\n",
              "      <th>3</th>\n",
              "      <td>4577_4</td>\n",
              "      <td>4577</td>\n",
              "      <td>4</td>\n",
              "      <td>CI24915</td>\n",
              "    </tr>\n",
              "    <tr>\n",
              "      <th>4</th>\n",
              "      <td>4577_5</td>\n",
              "      <td>4577</td>\n",
              "      <td>5</td>\n",
              "      <td>CI23714</td>\n",
              "    </tr>\n",
              "  </tbody>\n",
              "</table>\n",
              "</div>"
            ],
            "text/plain": [
              "  user_sequence  user_id  challenge_sequence challenge\n",
              "0        4577_1     4577                   1   CI23855\n",
              "1        4577_2     4577                   2   CI23933\n",
              "2        4577_3     4577                   3   CI24917\n",
              "3        4577_4     4577                   4   CI24915\n",
              "4        4577_5     4577                   5   CI23714"
            ]
          },
          "metadata": {
            "tags": []
          },
          "execution_count": 14
        }
      ]
    },
    {
      "cell_type": "code",
      "metadata": {
        "id": "nry1IKJerBsD",
        "colab_type": "code",
        "colab": {
          "base_uri": "https://localhost:8080/",
          "height": 204
        },
        "outputId": "445f01e4-bb68-4a0a-8130-5c85f372cce4"
      },
      "source": [
        "# info regarding variables in train data\n",
        "test.info()"
      ],
      "execution_count": 15,
      "outputs": [
        {
          "output_type": "stream",
          "text": [
            "<class 'pandas.core.frame.DataFrame'>\n",
            "RangeIndex: 397320 entries, 0 to 397319\n",
            "Data columns (total 4 columns):\n",
            " #   Column              Non-Null Count   Dtype \n",
            "---  ------              --------------   ----- \n",
            " 0   user_sequence       397320 non-null  object\n",
            " 1   user_id             397320 non-null  int64 \n",
            " 2   challenge_sequence  397320 non-null  int64 \n",
            " 3   challenge           397320 non-null  object\n",
            "dtypes: int64(2), object(2)\n",
            "memory usage: 12.1+ MB\n"
          ],
          "name": "stdout"
        }
      ]
    },
    {
      "cell_type": "code",
      "metadata": {
        "id": "Bs6WiEXbrBsG",
        "colab_type": "code",
        "colab": {
          "base_uri": "https://localhost:8080/",
          "height": 34
        },
        "outputId": "8e4a34ab-7672-4d5e-ef96-3f2c48a4edf1"
      },
      "source": [
        "# check for duplicates in train data\n",
        "test.shape, test['user_sequence'].unique().shape"
      ],
      "execution_count": 16,
      "outputs": [
        {
          "output_type": "execute_result",
          "data": {
            "text/plain": [
              "((397320, 4), (397320,))"
            ]
          },
          "metadata": {
            "tags": []
          },
          "execution_count": 16
        }
      ]
    },
    {
      "cell_type": "code",
      "metadata": {
        "id": "bUyOgsHLrBsI",
        "colab_type": "code",
        "colab": {
          "base_uri": "https://localhost:8080/",
          "height": 51
        },
        "outputId": "4653f93f-da5a-4b9a-cb53-1c7689bda07e"
      },
      "source": [
        "test['user_id'].unique().shape, test['user_id'].value_counts().value_counts()"
      ],
      "execution_count": 17,
      "outputs": [
        {
          "output_type": "execute_result",
          "data": {
            "text/plain": [
              "((39732,), 10    39732\n",
              " Name: user_id, dtype: int64)"
            ]
          },
          "metadata": {
            "tags": []
          },
          "execution_count": 17
        }
      ]
    },
    {
      "cell_type": "code",
      "metadata": {
        "id": "OOLkgibYrBsM",
        "colab_type": "code",
        "colab": {
          "base_uri": "https://localhost:8080/",
          "height": 204
        },
        "outputId": "75f2b1fd-5321-4637-c585-2dff136f2e72"
      },
      "source": [
        "test['challenge_sequence'].unique().shape, test['challenge_sequence'].value_counts()"
      ],
      "execution_count": 18,
      "outputs": [
        {
          "output_type": "execute_result",
          "data": {
            "text/plain": [
              "((10,), 10    39732\n",
              " 9     39732\n",
              " 8     39732\n",
              " 7     39732\n",
              " 6     39732\n",
              " 5     39732\n",
              " 4     39732\n",
              " 3     39732\n",
              " 2     39732\n",
              " 1     39732\n",
              " Name: challenge_sequence, dtype: int64)"
            ]
          },
          "metadata": {
            "tags": []
          },
          "execution_count": 18
        }
      ]
    },
    {
      "cell_type": "code",
      "metadata": {
        "id": "AFCoVo7crBsP",
        "colab_type": "code",
        "colab": {
          "base_uri": "https://localhost:8080/",
          "height": 34
        },
        "outputId": "90f9438d-7b5a-4e5d-9647-3e25d4477f0d"
      },
      "source": [
        "test['challenge'].unique().shape"
      ],
      "execution_count": 19,
      "outputs": [
        {
          "output_type": "execute_result",
          "data": {
            "text/plain": [
              "(4477,)"
            ]
          },
          "metadata": {
            "tags": []
          },
          "execution_count": 19
        }
      ]
    },
    {
      "cell_type": "code",
      "metadata": {
        "id": "0E3mgQL3rBsS",
        "colab_type": "code",
        "colab": {
          "base_uri": "https://localhost:8080/",
          "height": 34
        },
        "outputId": "0c00bab8-565d-4f12-acee-7f929cfb0c8c"
      },
      "source": [
        "# check challenges present in test data but not in train data\n",
        "\n",
        "challenges_not_in_train = set(test['challenge']).difference(set(train['challenge']))\n",
        "len(challenges_not_in_train)"
      ],
      "execution_count": 20,
      "outputs": [
        {
          "output_type": "execute_result",
          "data": {
            "text/plain": [
              "154"
            ]
          },
          "metadata": {
            "tags": []
          },
          "execution_count": 20
        }
      ]
    },
    {
      "cell_type": "code",
      "metadata": {
        "id": "oIacaCaErBsV",
        "colab_type": "code",
        "colab": {
          "base_uri": "https://localhost:8080/",
          "height": 34
        },
        "outputId": "a5d6b55d-5a0d-4c23-9523-db32ff4e23a2"
      },
      "source": [
        "# check challenges present in train data but not in test data\n",
        "\n",
        "challenges_not_in_test = set(train['challenge']).difference(set(test['challenge']))\n",
        "len(challenges_not_in_test)"
      ],
      "execution_count": 21,
      "outputs": [
        {
          "output_type": "execute_result",
          "data": {
            "text/plain": [
              "1025"
            ]
          },
          "metadata": {
            "tags": []
          },
          "execution_count": 21
        }
      ]
    },
    {
      "cell_type": "markdown",
      "metadata": {
        "id": "QSq0K-EJrBsY",
        "colab_type": "text"
      },
      "source": [
        "### Challenges"
      ]
    },
    {
      "cell_type": "code",
      "metadata": {
        "id": "o1KhOLeirBsY",
        "colab_type": "code",
        "colab": {
          "base_uri": "https://localhost:8080/",
          "height": 289
        },
        "outputId": "5fe2e57b-195b-4332-ef86-b881ec5a0912"
      },
      "source": [
        "challenges.info()"
      ],
      "execution_count": 22,
      "outputs": [
        {
          "output_type": "stream",
          "text": [
            "<class 'pandas.core.frame.DataFrame'>\n",
            "RangeIndex: 5606 entries, 0 to 5605\n",
            "Data columns (total 9 columns):\n",
            " #   Column                Non-Null Count  Dtype  \n",
            "---  ------                --------------  -----  \n",
            " 0   challenge_ID          5606 non-null   object \n",
            " 1   programming_language  5606 non-null   int64  \n",
            " 2   challenge_series_ID   5594 non-null   object \n",
            " 3   total_submissions     5254 non-null   float64\n",
            " 4   publish_date          5606 non-null   object \n",
            " 5   author_ID             5567 non-null   object \n",
            " 6   author_gender         5509 non-null   object \n",
            " 7   author_org_ID         5358 non-null   object \n",
            " 8   category_id           3765 non-null   float64\n",
            "dtypes: float64(2), int64(1), object(6)\n",
            "memory usage: 394.3+ KB\n"
          ],
          "name": "stdout"
        }
      ]
    },
    {
      "cell_type": "code",
      "metadata": {
        "id": "sAxQ59xTrBsb",
        "colab_type": "code",
        "colab": {
          "base_uri": "https://localhost:8080/",
          "height": 204
        },
        "outputId": "b5135f2d-55bf-4518-c897-f088372be0e0"
      },
      "source": [
        "challenges.head()"
      ],
      "execution_count": 23,
      "outputs": [
        {
          "output_type": "execute_result",
          "data": {
            "text/html": [
              "<div>\n",
              "<style scoped>\n",
              "    .dataframe tbody tr th:only-of-type {\n",
              "        vertical-align: middle;\n",
              "    }\n",
              "\n",
              "    .dataframe tbody tr th {\n",
              "        vertical-align: top;\n",
              "    }\n",
              "\n",
              "    .dataframe thead th {\n",
              "        text-align: right;\n",
              "    }\n",
              "</style>\n",
              "<table border=\"1\" class=\"dataframe\">\n",
              "  <thead>\n",
              "    <tr style=\"text-align: right;\">\n",
              "      <th></th>\n",
              "      <th>challenge_ID</th>\n",
              "      <th>programming_language</th>\n",
              "      <th>challenge_series_ID</th>\n",
              "      <th>total_submissions</th>\n",
              "      <th>publish_date</th>\n",
              "      <th>author_ID</th>\n",
              "      <th>author_gender</th>\n",
              "      <th>author_org_ID</th>\n",
              "      <th>category_id</th>\n",
              "    </tr>\n",
              "  </thead>\n",
              "  <tbody>\n",
              "    <tr>\n",
              "      <th>0</th>\n",
              "      <td>CI23478</td>\n",
              "      <td>2</td>\n",
              "      <td>SI2445</td>\n",
              "      <td>37.0</td>\n",
              "      <td>06-05-2006</td>\n",
              "      <td>AI563576</td>\n",
              "      <td>M</td>\n",
              "      <td>AOI100001</td>\n",
              "      <td>NaN</td>\n",
              "    </tr>\n",
              "    <tr>\n",
              "      <th>1</th>\n",
              "      <td>CI23479</td>\n",
              "      <td>2</td>\n",
              "      <td>SI2435</td>\n",
              "      <td>48.0</td>\n",
              "      <td>17-10-2002</td>\n",
              "      <td>AI563577</td>\n",
              "      <td>M</td>\n",
              "      <td>AOI100002</td>\n",
              "      <td>32.0</td>\n",
              "    </tr>\n",
              "    <tr>\n",
              "      <th>2</th>\n",
              "      <td>CI23480</td>\n",
              "      <td>1</td>\n",
              "      <td>SI2435</td>\n",
              "      <td>15.0</td>\n",
              "      <td>16-10-2002</td>\n",
              "      <td>AI563578</td>\n",
              "      <td>M</td>\n",
              "      <td>AOI100003</td>\n",
              "      <td>NaN</td>\n",
              "    </tr>\n",
              "    <tr>\n",
              "      <th>3</th>\n",
              "      <td>CI23481</td>\n",
              "      <td>1</td>\n",
              "      <td>SI2710</td>\n",
              "      <td>236.0</td>\n",
              "      <td>19-09-2003</td>\n",
              "      <td>AI563579</td>\n",
              "      <td>M</td>\n",
              "      <td>AOI100004</td>\n",
              "      <td>70.0</td>\n",
              "    </tr>\n",
              "    <tr>\n",
              "      <th>4</th>\n",
              "      <td>CI23482</td>\n",
              "      <td>2</td>\n",
              "      <td>SI2440</td>\n",
              "      <td>137.0</td>\n",
              "      <td>21-03-2002</td>\n",
              "      <td>AI563580</td>\n",
              "      <td>M</td>\n",
              "      <td>AOI100005</td>\n",
              "      <td>NaN</td>\n",
              "    </tr>\n",
              "  </tbody>\n",
              "</table>\n",
              "</div>"
            ],
            "text/plain": [
              "  challenge_ID  programming_language  ... author_org_ID  category_id\n",
              "0      CI23478                     2  ...     AOI100001          NaN\n",
              "1      CI23479                     2  ...     AOI100002         32.0\n",
              "2      CI23480                     1  ...     AOI100003          NaN\n",
              "3      CI23481                     1  ...     AOI100004         70.0\n",
              "4      CI23482                     2  ...     AOI100005          NaN\n",
              "\n",
              "[5 rows x 9 columns]"
            ]
          },
          "metadata": {
            "tags": []
          },
          "execution_count": 23
        }
      ]
    },
    {
      "cell_type": "code",
      "metadata": {
        "id": "5SOBq_bSrBse",
        "colab_type": "code",
        "colab": {
          "base_uri": "https://localhost:8080/",
          "height": 34
        },
        "outputId": "560ef21a-3e5b-42f2-d001-b968d7d63722"
      },
      "source": [
        "challenges.shape"
      ],
      "execution_count": 24,
      "outputs": [
        {
          "output_type": "execute_result",
          "data": {
            "text/plain": [
              "(5606, 9)"
            ]
          },
          "metadata": {
            "tags": []
          },
          "execution_count": 24
        }
      ]
    },
    {
      "cell_type": "code",
      "metadata": {
        "id": "Qcxvi3FlrBsh",
        "colab_type": "code",
        "colab": {
          "base_uri": "https://localhost:8080/",
          "height": 85
        },
        "outputId": "3a2386de-98d1-431e-8731-9463f402b06b"
      },
      "source": [
        "challenges['programming_language'].value_counts()"
      ],
      "execution_count": 25,
      "outputs": [
        {
          "output_type": "execute_result",
          "data": {
            "text/plain": [
              "1    5217\n",
              "2     319\n",
              "3      70\n",
              "Name: programming_language, dtype: int64"
            ]
          },
          "metadata": {
            "tags": []
          },
          "execution_count": 25
        }
      ]
    },
    {
      "cell_type": "code",
      "metadata": {
        "id": "9pAtjrNlrBsk",
        "colab_type": "code",
        "colab": {
          "base_uri": "https://localhost:8080/",
          "height": 459
        },
        "outputId": "d982e674-a0cd-4364-8393-e2749a4386e9"
      },
      "source": [
        "fig = plt.figure(figsize=[10,7])\n",
        "g = sns.countplot(challenges['programming_language'],\n",
        "                 color=sns.xkcd_rgb['greenish cyan'])\n",
        "g.set_title('Distribution of challenges w.r.p.t. programming language')\n",
        "plt.show()"
      ],
      "execution_count": 26,
      "outputs": [
        {
          "output_type": "display_data",
          "data": {
            "image/png": "[encoded data removed]",
            "text/plain": [
              "<Figure size 720x504 with 1 Axes>"
            ]
          },
          "metadata": {
            "tags": [],
            "needs_background": "dark"
          }
        }
      ]
    },
    {
      "cell_type": "code",
      "metadata": {
        "id": "-m1eIDaHrBso",
        "colab_type": "code",
        "colab": {
          "base_uri": "https://localhost:8080/",
          "height": 444
        },
        "outputId": "140424de-0b6d-47f2-d200-6e5548b3677e"
      },
      "source": [
        "fig = plt.figure(figsize=[15,7])\n",
        "ax = fig.add_subplot(111)\n",
        "ax.hist(challenges['total_submissions'],\n",
        "        color=sns.xkcd_rgb['greenish cyan'],\n",
        "        bins=100)\n",
        "\n",
        "ax.set_title('Distribution of total number of submissions')\n",
        "plt.show()"
      ],
      "execution_count": 27,
      "outputs": [
        {
          "output_type": "display_data",
          "data": {
            "image/png": "[encoded data removed]",
            "text/plain": [
              "<Figure size 1080x504 with 1 Axes>"
            ]
          },
          "metadata": {
            "tags": [],
            "needs_background": "dark"
          }
        }
      ]
    },
    {
      "cell_type": "code",
      "metadata": {
        "id": "51N12-GorBsr",
        "colab_type": "code",
        "colab": {
          "base_uri": "https://localhost:8080/",
          "height": 34
        },
        "outputId": "2d737bd1-4bbf-49d0-c72b-f807fc84fbed"
      },
      "source": [
        "# max number of submissions for a challenge\n",
        "max(challenges['total_submissions'])"
      ],
      "execution_count": 28,
      "outputs": [
        {
          "output_type": "execute_result",
          "data": {
            "text/plain": [
              "43409.0"
            ]
          },
          "metadata": {
            "tags": []
          },
          "execution_count": 28
        }
      ]
    },
    {
      "cell_type": "code",
      "metadata": {
        "id": "ZhkdwfnUrBsu",
        "colab_type": "code",
        "colab": {
          "base_uri": "https://localhost:8080/",
          "height": 34
        },
        "outputId": "6b8ebcdd-cd66-43a5-fffe-f2c67b5c5756"
      },
      "source": [
        "# number of authors\n",
        "len(challenges['author_ID'].unique())"
      ],
      "execution_count": 29,
      "outputs": [
        {
          "output_type": "execute_result",
          "data": {
            "text/plain": [
              "3485"
            ]
          },
          "metadata": {
            "tags": []
          },
          "execution_count": 29
        }
      ]
    },
    {
      "cell_type": "code",
      "metadata": {
        "id": "FZzJL4cjrBsx",
        "colab_type": "code",
        "colab": {
          "base_uri": "https://localhost:8080/",
          "height": 34
        },
        "outputId": "4c24f3b2-585c-40da-a2a5-5fa30532ec96"
      },
      "source": [
        "# number of author organisation\n",
        "len(challenges['author_org_ID'].unique())"
      ],
      "execution_count": 30,
      "outputs": [
        {
          "output_type": "execute_result",
          "data": {
            "text/plain": [
              "1718"
            ]
          },
          "metadata": {
            "tags": []
          },
          "execution_count": 30
        }
      ]
    },
    {
      "cell_type": "code",
      "metadata": {
        "id": "pClauXC3rBs0",
        "colab_type": "code",
        "colab": {
          "base_uri": "https://localhost:8080/",
          "height": 68
        },
        "outputId": "3a4fa376-18eb-4453-9293-d9d77da4f110"
      },
      "source": [
        "# author gender\n",
        "challenges['author_gender'].value_counts()"
      ],
      "execution_count": 31,
      "outputs": [
        {
          "output_type": "execute_result",
          "data": {
            "text/plain": [
              "M    4834\n",
              "F     675\n",
              "Name: author_gender, dtype: int64"
            ]
          },
          "metadata": {
            "tags": []
          },
          "execution_count": 31
        }
      ]
    },
    {
      "cell_type": "code",
      "metadata": {
        "id": "3N57QmBSrBs3",
        "colab_type": "code",
        "colab": {
          "base_uri": "https://localhost:8080/",
          "height": 238
        },
        "outputId": "6a219c20-ddd8-40fd-dbd6-103c3076c510"
      },
      "source": [
        "challenges['publish_date2'] = pd.to_datetime(challenges['publish_date'])\n",
        "challenges['year'] = challenges['publish_date2'].dt.year\n",
        "challenges['year'].value_counts()"
      ],
      "execution_count": 32,
      "outputs": [
        {
          "output_type": "execute_result",
          "data": {
            "text/plain": [
              "2008    1577\n",
              "2007    1289\n",
              "2009     888\n",
              "2006     695\n",
              "2005     462\n",
              "2004     245\n",
              "2003     155\n",
              "2002      92\n",
              "2010      81\n",
              "1999      73\n",
              "2001      46\n",
              "2000       3\n",
              "Name: year, dtype: int64"
            ]
          },
          "metadata": {
            "tags": []
          },
          "execution_count": 32
        }
      ]
    },
    {
      "cell_type": "code",
      "metadata": {
        "id": "zW0POUB0rBs6",
        "colab_type": "code",
        "colab": {
          "base_uri": "https://localhost:8080/",
          "height": 458
        },
        "outputId": "4f3e64fa-2c70-4ebb-c346-c89abd8850b8"
      },
      "source": [
        "fig = plt.figure(figsize=[10,7])\n",
        "g = sns.countplot(challenges['year'],\n",
        "                 color=sns.xkcd_rgb['greenish cyan'])\n",
        "g.set_title('Distribution of # of challenges per year')\n",
        "plt.show()"
      ],
      "execution_count": 33,
      "outputs": [
        {
          "output_type": "display_data",
          "data": {
            "image/png": "[encoded data removed]",
            "text/plain": [
              "<Figure size 720x504 with 1 Axes>"
            ]
          },
          "metadata": {
            "tags": [],
            "needs_background": "dark"
          }
        }
      ]
    },
    {
      "cell_type": "markdown",
      "metadata": {
        "id": "-AtVBzRXrBs8",
        "colab_type": "text"
      },
      "source": [
        "## Data Preparation"
      ]
    },
    {
      "cell_type": "markdown",
      "metadata": {
        "id": "YVdy-r__rBs9",
        "colab_type": "text"
      },
      "source": [
        "### mapping of X and Y"
      ]
    },
    {
      "cell_type": "code",
      "metadata": {
        "id": "twX7JrQmrBs9",
        "colab_type": "code",
        "colab": {}
      },
      "source": [
        "challenges['programming_language'] = challenges['programming_language'].map({1:'lang1',\n",
        "                                                                             2:'lang2',\n",
        "                                                                             3:'lang3'})"
      ],
      "execution_count": 34,
      "outputs": []
    },
    {
      "cell_type": "code",
      "metadata": {
        "id": "4rXkHdx2rBtB",
        "colab_type": "code",
        "colab": {}
      },
      "source": [
        "challenges['total_submissions'] = challenges['total_submissions'].fillna(challenges['total_submissions'].mean())"
      ],
      "execution_count": 35,
      "outputs": []
    },
    {
      "cell_type": "code",
      "metadata": {
        "id": "Fofd4MFBrBtE",
        "colab_type": "code",
        "colab": {}
      },
      "source": [
        "challenges_final = pd.concat([challenges['challenge_ID'],\n",
        "                              pd.get_dummies(challenges['programming_language']),\n",
        "                              pd.get_dummies(challenges['year']),\n",
        "                              challenges['total_submissions']], axis=1)"
      ],
      "execution_count": 36,
      "outputs": []
    },
    {
      "cell_type": "code",
      "metadata": {
        "id": "RZEJj7GyrBtH",
        "colab_type": "code",
        "colab": {
          "base_uri": "https://localhost:8080/",
          "height": 204
        },
        "outputId": "ef3f8099-89f9-43f5-d9fd-3ecab731e91f"
      },
      "source": [
        "challenges_final.head()"
      ],
      "execution_count": 37,
      "outputs": [
        {
          "output_type": "execute_result",
          "data": {
            "text/html": [
              "<div>\n",
              "<style scoped>\n",
              "    .dataframe tbody tr th:only-of-type {\n",
              "        vertical-align: middle;\n",
              "    }\n",
              "\n",
              "    .dataframe tbody tr th {\n",
              "        vertical-align: top;\n",
              "    }\n",
              "\n",
              "    .dataframe thead th {\n",
              "        text-align: right;\n",
              "    }\n",
              "</style>\n",
              "<table border=\"1\" class=\"dataframe\">\n",
              "  <thead>\n",
              "    <tr style=\"text-align: right;\">\n",
              "      <th></th>\n",
              "      <th>challenge_ID</th>\n",
              "      <th>lang1</th>\n",
              "      <th>lang2</th>\n",
              "      <th>lang3</th>\n",
              "      <th>1999</th>\n",
              "      <th>2000</th>\n",
              "      <th>2001</th>\n",
              "      <th>2002</th>\n",
              "      <th>2003</th>\n",
              "      <th>2004</th>\n",
              "      <th>2005</th>\n",
              "      <th>2006</th>\n",
              "      <th>2007</th>\n",
              "      <th>2008</th>\n",
              "      <th>2009</th>\n",
              "      <th>2010</th>\n",
              "      <th>total_submissions</th>\n",
              "    </tr>\n",
              "  </thead>\n",
              "  <tbody>\n",
              "    <tr>\n",
              "      <th>0</th>\n",
              "      <td>CI23478</td>\n",
              "      <td>0</td>\n",
              "      <td>1</td>\n",
              "      <td>0</td>\n",
              "      <td>0</td>\n",
              "      <td>0</td>\n",
              "      <td>0</td>\n",
              "      <td>0</td>\n",
              "      <td>0</td>\n",
              "      <td>0</td>\n",
              "      <td>0</td>\n",
              "      <td>1</td>\n",
              "      <td>0</td>\n",
              "      <td>0</td>\n",
              "      <td>0</td>\n",
              "      <td>0</td>\n",
              "      <td>37.0</td>\n",
              "    </tr>\n",
              "    <tr>\n",
              "      <th>1</th>\n",
              "      <td>CI23479</td>\n",
              "      <td>0</td>\n",
              "      <td>1</td>\n",
              "      <td>0</td>\n",
              "      <td>0</td>\n",
              "      <td>0</td>\n",
              "      <td>0</td>\n",
              "      <td>1</td>\n",
              "      <td>0</td>\n",
              "      <td>0</td>\n",
              "      <td>0</td>\n",
              "      <td>0</td>\n",
              "      <td>0</td>\n",
              "      <td>0</td>\n",
              "      <td>0</td>\n",
              "      <td>0</td>\n",
              "      <td>48.0</td>\n",
              "    </tr>\n",
              "    <tr>\n",
              "      <th>2</th>\n",
              "      <td>CI23480</td>\n",
              "      <td>1</td>\n",
              "      <td>0</td>\n",
              "      <td>0</td>\n",
              "      <td>0</td>\n",
              "      <td>0</td>\n",
              "      <td>0</td>\n",
              "      <td>1</td>\n",
              "      <td>0</td>\n",
              "      <td>0</td>\n",
              "      <td>0</td>\n",
              "      <td>0</td>\n",
              "      <td>0</td>\n",
              "      <td>0</td>\n",
              "      <td>0</td>\n",
              "      <td>0</td>\n",
              "      <td>15.0</td>\n",
              "    </tr>\n",
              "    <tr>\n",
              "      <th>3</th>\n",
              "      <td>CI23481</td>\n",
              "      <td>1</td>\n",
              "      <td>0</td>\n",
              "      <td>0</td>\n",
              "      <td>0</td>\n",
              "      <td>0</td>\n",
              "      <td>0</td>\n",
              "      <td>0</td>\n",
              "      <td>1</td>\n",
              "      <td>0</td>\n",
              "      <td>0</td>\n",
              "      <td>0</td>\n",
              "      <td>0</td>\n",
              "      <td>0</td>\n",
              "      <td>0</td>\n",
              "      <td>0</td>\n",
              "      <td>236.0</td>\n",
              "    </tr>\n",
              "    <tr>\n",
              "      <th>4</th>\n",
              "      <td>CI23482</td>\n",
              "      <td>0</td>\n",
              "      <td>1</td>\n",
              "      <td>0</td>\n",
              "      <td>0</td>\n",
              "      <td>0</td>\n",
              "      <td>0</td>\n",
              "      <td>1</td>\n",
              "      <td>0</td>\n",
              "      <td>0</td>\n",
              "      <td>0</td>\n",
              "      <td>0</td>\n",
              "      <td>0</td>\n",
              "      <td>0</td>\n",
              "      <td>0</td>\n",
              "      <td>0</td>\n",
              "      <td>137.0</td>\n",
              "    </tr>\n",
              "  </tbody>\n",
              "</table>\n",
              "</div>"
            ],
            "text/plain": [
              "  challenge_ID  lang1  lang2  lang3  ...  2008  2009  2010  total_submissions\n",
              "0      CI23478      0      1      0  ...     0     0     0               37.0\n",
              "1      CI23479      0      1      0  ...     0     0     0               48.0\n",
              "2      CI23480      1      0      0  ...     0     0     0               15.0\n",
              "3      CI23481      1      0      0  ...     0     0     0              236.0\n",
              "4      CI23482      0      1      0  ...     0     0     0              137.0\n",
              "\n",
              "[5 rows x 17 columns]"
            ]
          },
          "metadata": {
            "tags": []
          },
          "execution_count": 37
        }
      ]
    },
    {
      "cell_type": "code",
      "metadata": {
        "id": "PBVK6yDsrBtK",
        "colab_type": "code",
        "colab": {}
      },
      "source": [
        "Ymap = pd.concat([challenges['challenge_ID'],\n",
        "                 pd.get_dummies(challenges['challenge_ID'])], axis=1)"
      ],
      "execution_count": 38,
      "outputs": []
    },
    {
      "cell_type": "code",
      "metadata": {
        "id": "QzuaqxpwrBtO",
        "colab_type": "code",
        "colab": {}
      },
      "source": [
        "Xmap = pd.merge(Ymap,\n",
        "                challenges_final,\n",
        "                on='challenge_ID',\n",
        "                how='inner')"
      ],
      "execution_count": 39,
      "outputs": []
    },
    {
      "cell_type": "code",
      "metadata": {
        "id": "c3nCYdnHrBtR",
        "colab_type": "code",
        "colab": {
          "base_uri": "https://localhost:8080/",
          "height": 253
        },
        "outputId": "8dde571e-6cfe-48b7-af67-7228f620787f"
      },
      "source": [
        "Xmap.head()"
      ],
      "execution_count": 40,
      "outputs": [
        {
          "output_type": "execute_result",
          "data": {
            "text/html": [
              "<div>\n",
              "<style scoped>\n",
              "    .dataframe tbody tr th:only-of-type {\n",
              "        vertical-align: middle;\n",
              "    }\n",
              "\n",
              "    .dataframe tbody tr th {\n",
              "        vertical-align: top;\n",
              "    }\n",
              "\n",
              "    .dataframe thead th {\n",
              "        text-align: right;\n",
              "    }\n",
              "</style>\n",
              "<table border=\"1\" class=\"dataframe\">\n",
              "  <thead>\n",
              "    <tr style=\"text-align: right;\">\n",
              "      <th></th>\n",
              "      <th>challenge_ID</th>\n",
              "      <th>CI23478</th>\n",
              "      <th>CI23479</th>\n",
              "      <th>CI23480</th>\n",
              "      <th>CI23481</th>\n",
              "      <th>CI23482</th>\n",
              "      <th>CI23483</th>\n",
              "      <th>CI23484</th>\n",
              "      <th>CI23485</th>\n",
              "      <th>CI23486</th>\n",
              "      <th>CI23487</th>\n",
              "      <th>CI23488</th>\n",
              "      <th>CI23489</th>\n",
              "      <th>CI23490</th>\n",
              "      <th>CI23491</th>\n",
              "      <th>CI23492</th>\n",
              "      <th>CI23493</th>\n",
              "      <th>CI23494</th>\n",
              "      <th>CI23495</th>\n",
              "      <th>CI23496</th>\n",
              "      <th>CI23497</th>\n",
              "      <th>CI23498</th>\n",
              "      <th>CI23499</th>\n",
              "      <th>CI23500</th>\n",
              "      <th>CI23501</th>\n",
              "      <th>CI23502</th>\n",
              "      <th>CI23503</th>\n",
              "      <th>CI23504</th>\n",
              "      <th>CI23505</th>\n",
              "      <th>CI23506</th>\n",
              "      <th>CI23507</th>\n",
              "      <th>CI23508</th>\n",
              "      <th>CI23509</th>\n",
              "      <th>CI23510</th>\n",
              "      <th>CI23511</th>\n",
              "      <th>CI23512</th>\n",
              "      <th>CI23513</th>\n",
              "      <th>CI23514</th>\n",
              "      <th>CI23515</th>\n",
              "      <th>CI23516</th>\n",
              "      <th>...</th>\n",
              "      <th>CI29060</th>\n",
              "      <th>CI29061</th>\n",
              "      <th>CI29062</th>\n",
              "      <th>CI29063</th>\n",
              "      <th>CI29064</th>\n",
              "      <th>CI29065</th>\n",
              "      <th>CI29066</th>\n",
              "      <th>CI29067</th>\n",
              "      <th>CI29068</th>\n",
              "      <th>CI29069</th>\n",
              "      <th>CI29070</th>\n",
              "      <th>CI29071</th>\n",
              "      <th>CI29072</th>\n",
              "      <th>CI29073</th>\n",
              "      <th>CI29074</th>\n",
              "      <th>CI29075</th>\n",
              "      <th>CI29076</th>\n",
              "      <th>CI29077</th>\n",
              "      <th>CI29078</th>\n",
              "      <th>CI29079</th>\n",
              "      <th>CI29080</th>\n",
              "      <th>CI29081</th>\n",
              "      <th>CI29082</th>\n",
              "      <th>CI29083</th>\n",
              "      <th>lang1</th>\n",
              "      <th>lang2</th>\n",
              "      <th>lang3</th>\n",
              "      <th>1999</th>\n",
              "      <th>2000</th>\n",
              "      <th>2001</th>\n",
              "      <th>2002</th>\n",
              "      <th>2003</th>\n",
              "      <th>2004</th>\n",
              "      <th>2005</th>\n",
              "      <th>2006</th>\n",
              "      <th>2007</th>\n",
              "      <th>2008</th>\n",
              "      <th>2009</th>\n",
              "      <th>2010</th>\n",
              "      <th>total_submissions</th>\n",
              "    </tr>\n",
              "  </thead>\n",
              "  <tbody>\n",
              "    <tr>\n",
              "      <th>0</th>\n",
              "      <td>CI23478</td>\n",
              "      <td>1</td>\n",
              "      <td>0</td>\n",
              "      <td>0</td>\n",
              "      <td>0</td>\n",
              "      <td>0</td>\n",
              "      <td>0</td>\n",
              "      <td>0</td>\n",
              "      <td>0</td>\n",
              "      <td>0</td>\n",
              "      <td>0</td>\n",
              "      <td>0</td>\n",
              "      <td>0</td>\n",
              "      <td>0</td>\n",
              "      <td>0</td>\n",
              "      <td>0</td>\n",
              "      <td>0</td>\n",
              "      <td>0</td>\n",
              "      <td>0</td>\n",
              "      <td>0</td>\n",
              "      <td>0</td>\n",
              "      <td>0</td>\n",
              "      <td>0</td>\n",
              "      <td>0</td>\n",
              "      <td>0</td>\n",
              "      <td>0</td>\n",
              "      <td>0</td>\n",
              "      <td>0</td>\n",
              "      <td>0</td>\n",
              "      <td>0</td>\n",
              "      <td>0</td>\n",
              "      <td>0</td>\n",
              "      <td>0</td>\n",
              "      <td>0</td>\n",
              "      <td>0</td>\n",
              "      <td>0</td>\n",
              "      <td>0</td>\n",
              "      <td>0</td>\n",
              "      <td>0</td>\n",
              "      <td>0</td>\n",
              "      <td>...</td>\n",
              "      <td>0</td>\n",
              "      <td>0</td>\n",
              "      <td>0</td>\n",
              "      <td>0</td>\n",
              "      <td>0</td>\n",
              "      <td>0</td>\n",
              "      <td>0</td>\n",
              "      <td>0</td>\n",
              "      <td>0</td>\n",
              "      <td>0</td>\n",
              "      <td>0</td>\n",
              "      <td>0</td>\n",
              "      <td>0</td>\n",
              "      <td>0</td>\n",
              "      <td>0</td>\n",
              "      <td>0</td>\n",
              "      <td>0</td>\n",
              "      <td>0</td>\n",
              "      <td>0</td>\n",
              "      <td>0</td>\n",
              "      <td>0</td>\n",
              "      <td>0</td>\n",
              "      <td>0</td>\n",
              "      <td>0</td>\n",
              "      <td>0</td>\n",
              "      <td>1</td>\n",
              "      <td>0</td>\n",
              "      <td>0</td>\n",
              "      <td>0</td>\n",
              "      <td>0</td>\n",
              "      <td>0</td>\n",
              "      <td>0</td>\n",
              "      <td>0</td>\n",
              "      <td>0</td>\n",
              "      <td>1</td>\n",
              "      <td>0</td>\n",
              "      <td>0</td>\n",
              "      <td>0</td>\n",
              "      <td>0</td>\n",
              "      <td>37.0</td>\n",
              "    </tr>\n",
              "    <tr>\n",
              "      <th>1</th>\n",
              "      <td>CI23479</td>\n",
              "      <td>0</td>\n",
              "      <td>1</td>\n",
              "      <td>0</td>\n",
              "      <td>0</td>\n",
              "      <td>0</td>\n",
              "      <td>0</td>\n",
              "      <td>0</td>\n",
              "      <td>0</td>\n",
              "      <td>0</td>\n",
              "      <td>0</td>\n",
              "      <td>0</td>\n",
              "      <td>0</td>\n",
              "      <td>0</td>\n",
              "      <td>0</td>\n",
              "      <td>0</td>\n",
              "      <td>0</td>\n",
              "      <td>0</td>\n",
              "      <td>0</td>\n",
              "      <td>0</td>\n",
              "      <td>0</td>\n",
              "      <td>0</td>\n",
              "      <td>0</td>\n",
              "      <td>0</td>\n",
              "      <td>0</td>\n",
              "      <td>0</td>\n",
              "      <td>0</td>\n",
              "      <td>0</td>\n",
              "      <td>0</td>\n",
              "      <td>0</td>\n",
              "      <td>0</td>\n",
              "      <td>0</td>\n",
              "      <td>0</td>\n",
              "      <td>0</td>\n",
              "      <td>0</td>\n",
              "      <td>0</td>\n",
              "      <td>0</td>\n",
              "      <td>0</td>\n",
              "      <td>0</td>\n",
              "      <td>0</td>\n",
              "      <td>...</td>\n",
              "      <td>0</td>\n",
              "      <td>0</td>\n",
              "      <td>0</td>\n",
              "      <td>0</td>\n",
              "      <td>0</td>\n",
              "      <td>0</td>\n",
              "      <td>0</td>\n",
              "      <td>0</td>\n",
              "      <td>0</td>\n",
              "      <td>0</td>\n",
              "      <td>0</td>\n",
              "      <td>0</td>\n",
              "      <td>0</td>\n",
              "      <td>0</td>\n",
              "      <td>0</td>\n",
              "      <td>0</td>\n",
              "      <td>0</td>\n",
              "      <td>0</td>\n",
              "      <td>0</td>\n",
              "      <td>0</td>\n",
              "      <td>0</td>\n",
              "      <td>0</td>\n",
              "      <td>0</td>\n",
              "      <td>0</td>\n",
              "      <td>0</td>\n",
              "      <td>1</td>\n",
              "      <td>0</td>\n",
              "      <td>0</td>\n",
              "      <td>0</td>\n",
              "      <td>0</td>\n",
              "      <td>1</td>\n",
              "      <td>0</td>\n",
              "      <td>0</td>\n",
              "      <td>0</td>\n",
              "      <td>0</td>\n",
              "      <td>0</td>\n",
              "      <td>0</td>\n",
              "      <td>0</td>\n",
              "      <td>0</td>\n",
              "      <td>48.0</td>\n",
              "    </tr>\n",
              "    <tr>\n",
              "      <th>2</th>\n",
              "      <td>CI23480</td>\n",
              "      <td>0</td>\n",
              "      <td>0</td>\n",
              "      <td>1</td>\n",
              "      <td>0</td>\n",
              "      <td>0</td>\n",
              "      <td>0</td>\n",
              "      <td>0</td>\n",
              "      <td>0</td>\n",
              "      <td>0</td>\n",
              "      <td>0</td>\n",
              "      <td>0</td>\n",
              "      <td>0</td>\n",
              "      <td>0</td>\n",
              "      <td>0</td>\n",
              "      <td>0</td>\n",
              "      <td>0</td>\n",
              "      <td>0</td>\n",
              "      <td>0</td>\n",
              "      <td>0</td>\n",
              "      <td>0</td>\n",
              "      <td>0</td>\n",
              "      <td>0</td>\n",
              "      <td>0</td>\n",
              "      <td>0</td>\n",
              "      <td>0</td>\n",
              "      <td>0</td>\n",
              "      <td>0</td>\n",
              "      <td>0</td>\n",
              "      <td>0</td>\n",
              "      <td>0</td>\n",
              "      <td>0</td>\n",
              "      <td>0</td>\n",
              "      <td>0</td>\n",
              "      <td>0</td>\n",
              "      <td>0</td>\n",
              "      <td>0</td>\n",
              "      <td>0</td>\n",
              "      <td>0</td>\n",
              "      <td>0</td>\n",
              "      <td>...</td>\n",
              "      <td>0</td>\n",
              "      <td>0</td>\n",
              "      <td>0</td>\n",
              "      <td>0</td>\n",
              "      <td>0</td>\n",
              "      <td>0</td>\n",
              "      <td>0</td>\n",
              "      <td>0</td>\n",
              "      <td>0</td>\n",
              "      <td>0</td>\n",
              "      <td>0</td>\n",
              "      <td>0</td>\n",
              "      <td>0</td>\n",
              "      <td>0</td>\n",
              "      <td>0</td>\n",
              "      <td>0</td>\n",
              "      <td>0</td>\n",
              "      <td>0</td>\n",
              "      <td>0</td>\n",
              "      <td>0</td>\n",
              "      <td>0</td>\n",
              "      <td>0</td>\n",
              "      <td>0</td>\n",
              "      <td>0</td>\n",
              "      <td>1</td>\n",
              "      <td>0</td>\n",
              "      <td>0</td>\n",
              "      <td>0</td>\n",
              "      <td>0</td>\n",
              "      <td>0</td>\n",
              "      <td>1</td>\n",
              "      <td>0</td>\n",
              "      <td>0</td>\n",
              "      <td>0</td>\n",
              "      <td>0</td>\n",
              "      <td>0</td>\n",
              "      <td>0</td>\n",
              "      <td>0</td>\n",
              "      <td>0</td>\n",
              "      <td>15.0</td>\n",
              "    </tr>\n",
              "    <tr>\n",
              "      <th>3</th>\n",
              "      <td>CI23481</td>\n",
              "      <td>0</td>\n",
              "      <td>0</td>\n",
              "      <td>0</td>\n",
              "      <td>1</td>\n",
              "      <td>0</td>\n",
              "      <td>0</td>\n",
              "      <td>0</td>\n",
              "      <td>0</td>\n",
              "      <td>0</td>\n",
              "      <td>0</td>\n",
              "      <td>0</td>\n",
              "      <td>0</td>\n",
              "      <td>0</td>\n",
              "      <td>0</td>\n",
              "      <td>0</td>\n",
              "      <td>0</td>\n",
              "      <td>0</td>\n",
              "      <td>0</td>\n",
              "      <td>0</td>\n",
              "      <td>0</td>\n",
              "      <td>0</td>\n",
              "      <td>0</td>\n",
              "      <td>0</td>\n",
              "      <td>0</td>\n",
              "      <td>0</td>\n",
              "      <td>0</td>\n",
              "      <td>0</td>\n",
              "      <td>0</td>\n",
              "      <td>0</td>\n",
              "      <td>0</td>\n",
              "      <td>0</td>\n",
              "      <td>0</td>\n",
              "      <td>0</td>\n",
              "      <td>0</td>\n",
              "      <td>0</td>\n",
              "      <td>0</td>\n",
              "      <td>0</td>\n",
              "      <td>0</td>\n",
              "      <td>0</td>\n",
              "      <td>...</td>\n",
              "      <td>0</td>\n",
              "      <td>0</td>\n",
              "      <td>0</td>\n",
              "      <td>0</td>\n",
              "      <td>0</td>\n",
              "      <td>0</td>\n",
              "      <td>0</td>\n",
              "      <td>0</td>\n",
              "      <td>0</td>\n",
              "      <td>0</td>\n",
              "      <td>0</td>\n",
              "      <td>0</td>\n",
              "      <td>0</td>\n",
              "      <td>0</td>\n",
              "      <td>0</td>\n",
              "      <td>0</td>\n",
              "      <td>0</td>\n",
              "      <td>0</td>\n",
              "      <td>0</td>\n",
              "      <td>0</td>\n",
              "      <td>0</td>\n",
              "      <td>0</td>\n",
              "      <td>0</td>\n",
              "      <td>0</td>\n",
              "      <td>1</td>\n",
              "      <td>0</td>\n",
              "      <td>0</td>\n",
              "      <td>0</td>\n",
              "      <td>0</td>\n",
              "      <td>0</td>\n",
              "      <td>0</td>\n",
              "      <td>1</td>\n",
              "      <td>0</td>\n",
              "      <td>0</td>\n",
              "      <td>0</td>\n",
              "      <td>0</td>\n",
              "      <td>0</td>\n",
              "      <td>0</td>\n",
              "      <td>0</td>\n",
              "      <td>236.0</td>\n",
              "    </tr>\n",
              "    <tr>\n",
              "      <th>4</th>\n",
              "      <td>CI23482</td>\n",
              "      <td>0</td>\n",
              "      <td>0</td>\n",
              "      <td>0</td>\n",
              "      <td>0</td>\n",
              "      <td>1</td>\n",
              "      <td>0</td>\n",
              "      <td>0</td>\n",
              "      <td>0</td>\n",
              "      <td>0</td>\n",
              "      <td>0</td>\n",
              "      <td>0</td>\n",
              "      <td>0</td>\n",
              "      <td>0</td>\n",
              "      <td>0</td>\n",
              "      <td>0</td>\n",
              "      <td>0</td>\n",
              "      <td>0</td>\n",
              "      <td>0</td>\n",
              "      <td>0</td>\n",
              "      <td>0</td>\n",
              "      <td>0</td>\n",
              "      <td>0</td>\n",
              "      <td>0</td>\n",
              "      <td>0</td>\n",
              "      <td>0</td>\n",
              "      <td>0</td>\n",
              "      <td>0</td>\n",
              "      <td>0</td>\n",
              "      <td>0</td>\n",
              "      <td>0</td>\n",
              "      <td>0</td>\n",
              "      <td>0</td>\n",
              "      <td>0</td>\n",
              "      <td>0</td>\n",
              "      <td>0</td>\n",
              "      <td>0</td>\n",
              "      <td>0</td>\n",
              "      <td>0</td>\n",
              "      <td>0</td>\n",
              "      <td>...</td>\n",
              "      <td>0</td>\n",
              "      <td>0</td>\n",
              "      <td>0</td>\n",
              "      <td>0</td>\n",
              "      <td>0</td>\n",
              "      <td>0</td>\n",
              "      <td>0</td>\n",
              "      <td>0</td>\n",
              "      <td>0</td>\n",
              "      <td>0</td>\n",
              "      <td>0</td>\n",
              "      <td>0</td>\n",
              "      <td>0</td>\n",
              "      <td>0</td>\n",
              "      <td>0</td>\n",
              "      <td>0</td>\n",
              "      <td>0</td>\n",
              "      <td>0</td>\n",
              "      <td>0</td>\n",
              "      <td>0</td>\n",
              "      <td>0</td>\n",
              "      <td>0</td>\n",
              "      <td>0</td>\n",
              "      <td>0</td>\n",
              "      <td>0</td>\n",
              "      <td>1</td>\n",
              "      <td>0</td>\n",
              "      <td>0</td>\n",
              "      <td>0</td>\n",
              "      <td>0</td>\n",
              "      <td>1</td>\n",
              "      <td>0</td>\n",
              "      <td>0</td>\n",
              "      <td>0</td>\n",
              "      <td>0</td>\n",
              "      <td>0</td>\n",
              "      <td>0</td>\n",
              "      <td>0</td>\n",
              "      <td>0</td>\n",
              "      <td>137.0</td>\n",
              "    </tr>\n",
              "  </tbody>\n",
              "</table>\n",
              "<p>5 rows × 5623 columns</p>\n",
              "</div>"
            ],
            "text/plain": [
              "  challenge_ID  CI23478  CI23479  CI23480  ...  2008  2009  2010  total_submissions\n",
              "0      CI23478        1        0        0  ...     0     0     0               37.0\n",
              "1      CI23479        0        1        0  ...     0     0     0               48.0\n",
              "2      CI23480        0        0        1  ...     0     0     0               15.0\n",
              "3      CI23481        0        0        0  ...     0     0     0              236.0\n",
              "4      CI23482        0        0        0  ...     0     0     0              137.0\n",
              "\n",
              "[5 rows x 5623 columns]"
            ]
          },
          "metadata": {
            "tags": []
          },
          "execution_count": 40
        }
      ]
    },
    {
      "cell_type": "code",
      "metadata": {
        "id": "yfEvTnzRrBtW",
        "colab_type": "code",
        "colab": {}
      },
      "source": [
        "Ymap.set_index('challenge_ID', inplace=True)\n",
        "Xmap.set_index('challenge_ID', inplace=True)"
      ],
      "execution_count": 41,
      "outputs": []
    },
    {
      "cell_type": "code",
      "metadata": {
        "id": "na-C_XiirBtY",
        "colab_type": "code",
        "colab": {
          "base_uri": "https://localhost:8080/",
          "height": 284
        },
        "outputId": "4ee700e8-de87-4a4f-e881-9fb65f6ca0ec"
      },
      "source": [
        "Ymap.head()"
      ],
      "execution_count": 42,
      "outputs": [
        {
          "output_type": "execute_result",
          "data": {
            "text/html": [
              "<div>\n",
              "<style scoped>\n",
              "    .dataframe tbody tr th:only-of-type {\n",
              "        vertical-align: middle;\n",
              "    }\n",
              "\n",
              "    .dataframe tbody tr th {\n",
              "        vertical-align: top;\n",
              "    }\n",
              "\n",
              "    .dataframe thead th {\n",
              "        text-align: right;\n",
              "    }\n",
              "</style>\n",
              "<table border=\"1\" class=\"dataframe\">\n",
              "  <thead>\n",
              "    <tr style=\"text-align: right;\">\n",
              "      <th></th>\n",
              "      <th>CI23478</th>\n",
              "      <th>CI23479</th>\n",
              "      <th>CI23480</th>\n",
              "      <th>CI23481</th>\n",
              "      <th>CI23482</th>\n",
              "      <th>CI23483</th>\n",
              "      <th>CI23484</th>\n",
              "      <th>CI23485</th>\n",
              "      <th>CI23486</th>\n",
              "      <th>CI23487</th>\n",
              "      <th>CI23488</th>\n",
              "      <th>CI23489</th>\n",
              "      <th>CI23490</th>\n",
              "      <th>CI23491</th>\n",
              "      <th>CI23492</th>\n",
              "      <th>CI23493</th>\n",
              "      <th>CI23494</th>\n",
              "      <th>CI23495</th>\n",
              "      <th>CI23496</th>\n",
              "      <th>CI23497</th>\n",
              "      <th>CI23498</th>\n",
              "      <th>CI23499</th>\n",
              "      <th>CI23500</th>\n",
              "      <th>CI23501</th>\n",
              "      <th>CI23502</th>\n",
              "      <th>CI23503</th>\n",
              "      <th>CI23504</th>\n",
              "      <th>CI23505</th>\n",
              "      <th>CI23506</th>\n",
              "      <th>CI23507</th>\n",
              "      <th>CI23508</th>\n",
              "      <th>CI23509</th>\n",
              "      <th>CI23510</th>\n",
              "      <th>CI23511</th>\n",
              "      <th>CI23512</th>\n",
              "      <th>CI23513</th>\n",
              "      <th>CI23514</th>\n",
              "      <th>CI23515</th>\n",
              "      <th>CI23516</th>\n",
              "      <th>CI23517</th>\n",
              "      <th>...</th>\n",
              "      <th>CI29044</th>\n",
              "      <th>CI29045</th>\n",
              "      <th>CI29046</th>\n",
              "      <th>CI29047</th>\n",
              "      <th>CI29048</th>\n",
              "      <th>CI29049</th>\n",
              "      <th>CI29050</th>\n",
              "      <th>CI29051</th>\n",
              "      <th>CI29052</th>\n",
              "      <th>CI29053</th>\n",
              "      <th>CI29054</th>\n",
              "      <th>CI29055</th>\n",
              "      <th>CI29056</th>\n",
              "      <th>CI29057</th>\n",
              "      <th>CI29058</th>\n",
              "      <th>CI29059</th>\n",
              "      <th>CI29060</th>\n",
              "      <th>CI29061</th>\n",
              "      <th>CI29062</th>\n",
              "      <th>CI29063</th>\n",
              "      <th>CI29064</th>\n",
              "      <th>CI29065</th>\n",
              "      <th>CI29066</th>\n",
              "      <th>CI29067</th>\n",
              "      <th>CI29068</th>\n",
              "      <th>CI29069</th>\n",
              "      <th>CI29070</th>\n",
              "      <th>CI29071</th>\n",
              "      <th>CI29072</th>\n",
              "      <th>CI29073</th>\n",
              "      <th>CI29074</th>\n",
              "      <th>CI29075</th>\n",
              "      <th>CI29076</th>\n",
              "      <th>CI29077</th>\n",
              "      <th>CI29078</th>\n",
              "      <th>CI29079</th>\n",
              "      <th>CI29080</th>\n",
              "      <th>CI29081</th>\n",
              "      <th>CI29082</th>\n",
              "      <th>CI29083</th>\n",
              "    </tr>\n",
              "    <tr>\n",
              "      <th>challenge_ID</th>\n",
              "      <th></th>\n",
              "      <th></th>\n",
              "      <th></th>\n",
              "      <th></th>\n",
              "      <th></th>\n",
              "      <th></th>\n",
              "      <th></th>\n",
              "      <th></th>\n",
              "      <th></th>\n",
              "      <th></th>\n",
              "      <th></th>\n",
              "      <th></th>\n",
              "      <th></th>\n",
              "      <th></th>\n",
              "      <th></th>\n",
              "      <th></th>\n",
              "      <th></th>\n",
              "      <th></th>\n",
              "      <th></th>\n",
              "      <th></th>\n",
              "      <th></th>\n",
              "      <th></th>\n",
              "      <th></th>\n",
              "      <th></th>\n",
              "      <th></th>\n",
              "      <th></th>\n",
              "      <th></th>\n",
              "      <th></th>\n",
              "      <th></th>\n",
              "      <th></th>\n",
              "      <th></th>\n",
              "      <th></th>\n",
              "      <th></th>\n",
              "      <th></th>\n",
              "      <th></th>\n",
              "      <th></th>\n",
              "      <th></th>\n",
              "      <th></th>\n",
              "      <th></th>\n",
              "      <th></th>\n",
              "      <th></th>\n",
              "      <th></th>\n",
              "      <th></th>\n",
              "      <th></th>\n",
              "      <th></th>\n",
              "      <th></th>\n",
              "      <th></th>\n",
              "      <th></th>\n",
              "      <th></th>\n",
              "      <th></th>\n",
              "      <th></th>\n",
              "      <th></th>\n",
              "      <th></th>\n",
              "      <th></th>\n",
              "      <th></th>\n",
              "      <th></th>\n",
              "      <th></th>\n",
              "      <th></th>\n",
              "      <th></th>\n",
              "      <th></th>\n",
              "      <th></th>\n",
              "      <th></th>\n",
              "      <th></th>\n",
              "      <th></th>\n",
              "      <th></th>\n",
              "      <th></th>\n",
              "      <th></th>\n",
              "      <th></th>\n",
              "      <th></th>\n",
              "      <th></th>\n",
              "      <th></th>\n",
              "      <th></th>\n",
              "      <th></th>\n",
              "      <th></th>\n",
              "      <th></th>\n",
              "      <th></th>\n",
              "      <th></th>\n",
              "      <th></th>\n",
              "      <th></th>\n",
              "      <th></th>\n",
              "      <th></th>\n",
              "    </tr>\n",
              "  </thead>\n",
              "  <tbody>\n",
              "    <tr>\n",
              "      <th>CI23478</th>\n",
              "      <td>1</td>\n",
              "      <td>0</td>\n",
              "      <td>0</td>\n",
              "      <td>0</td>\n",
              "      <td>0</td>\n",
              "      <td>0</td>\n",
              "      <td>0</td>\n",
              "      <td>0</td>\n",
              "      <td>0</td>\n",
              "      <td>0</td>\n",
              "      <td>0</td>\n",
              "      <td>0</td>\n",
              "      <td>0</td>\n",
              "      <td>0</td>\n",
              "      <td>0</td>\n",
              "      <td>0</td>\n",
              "      <td>0</td>\n",
              "      <td>0</td>\n",
              "      <td>0</td>\n",
              "      <td>0</td>\n",
              "      <td>0</td>\n",
              "      <td>0</td>\n",
              "      <td>0</td>\n",
              "      <td>0</td>\n",
              "      <td>0</td>\n",
              "      <td>0</td>\n",
              "      <td>0</td>\n",
              "      <td>0</td>\n",
              "      <td>0</td>\n",
              "      <td>0</td>\n",
              "      <td>0</td>\n",
              "      <td>0</td>\n",
              "      <td>0</td>\n",
              "      <td>0</td>\n",
              "      <td>0</td>\n",
              "      <td>0</td>\n",
              "      <td>0</td>\n",
              "      <td>0</td>\n",
              "      <td>0</td>\n",
              "      <td>0</td>\n",
              "      <td>...</td>\n",
              "      <td>0</td>\n",
              "      <td>0</td>\n",
              "      <td>0</td>\n",
              "      <td>0</td>\n",
              "      <td>0</td>\n",
              "      <td>0</td>\n",
              "      <td>0</td>\n",
              "      <td>0</td>\n",
              "      <td>0</td>\n",
              "      <td>0</td>\n",
              "      <td>0</td>\n",
              "      <td>0</td>\n",
              "      <td>0</td>\n",
              "      <td>0</td>\n",
              "      <td>0</td>\n",
              "      <td>0</td>\n",
              "      <td>0</td>\n",
              "      <td>0</td>\n",
              "      <td>0</td>\n",
              "      <td>0</td>\n",
              "      <td>0</td>\n",
              "      <td>0</td>\n",
              "      <td>0</td>\n",
              "      <td>0</td>\n",
              "      <td>0</td>\n",
              "      <td>0</td>\n",
              "      <td>0</td>\n",
              "      <td>0</td>\n",
              "      <td>0</td>\n",
              "      <td>0</td>\n",
              "      <td>0</td>\n",
              "      <td>0</td>\n",
              "      <td>0</td>\n",
              "      <td>0</td>\n",
              "      <td>0</td>\n",
              "      <td>0</td>\n",
              "      <td>0</td>\n",
              "      <td>0</td>\n",
              "      <td>0</td>\n",
              "      <td>0</td>\n",
              "    </tr>\n",
              "    <tr>\n",
              "      <th>CI23479</th>\n",
              "      <td>0</td>\n",
              "      <td>1</td>\n",
              "      <td>0</td>\n",
              "      <td>0</td>\n",
              "      <td>0</td>\n",
              "      <td>0</td>\n",
              "      <td>0</td>\n",
              "      <td>0</td>\n",
              "      <td>0</td>\n",
              "      <td>0</td>\n",
              "      <td>0</td>\n",
              "      <td>0</td>\n",
              "      <td>0</td>\n",
              "      <td>0</td>\n",
              "      <td>0</td>\n",
              "      <td>0</td>\n",
              "      <td>0</td>\n",
              "      <td>0</td>\n",
              "      <td>0</td>\n",
              "      <td>0</td>\n",
              "      <td>0</td>\n",
              "      <td>0</td>\n",
              "      <td>0</td>\n",
              "      <td>0</td>\n",
              "      <td>0</td>\n",
              "      <td>0</td>\n",
              "      <td>0</td>\n",
              "      <td>0</td>\n",
              "      <td>0</td>\n",
              "      <td>0</td>\n",
              "      <td>0</td>\n",
              "      <td>0</td>\n",
              "      <td>0</td>\n",
              "      <td>0</td>\n",
              "      <td>0</td>\n",
              "      <td>0</td>\n",
              "      <td>0</td>\n",
              "      <td>0</td>\n",
              "      <td>0</td>\n",
              "      <td>0</td>\n",
              "      <td>...</td>\n",
              "      <td>0</td>\n",
              "      <td>0</td>\n",
              "      <td>0</td>\n",
              "      <td>0</td>\n",
              "      <td>0</td>\n",
              "      <td>0</td>\n",
              "      <td>0</td>\n",
              "      <td>0</td>\n",
              "      <td>0</td>\n",
              "      <td>0</td>\n",
              "      <td>0</td>\n",
              "      <td>0</td>\n",
              "      <td>0</td>\n",
              "      <td>0</td>\n",
              "      <td>0</td>\n",
              "      <td>0</td>\n",
              "      <td>0</td>\n",
              "      <td>0</td>\n",
              "      <td>0</td>\n",
              "      <td>0</td>\n",
              "      <td>0</td>\n",
              "      <td>0</td>\n",
              "      <td>0</td>\n",
              "      <td>0</td>\n",
              "      <td>0</td>\n",
              "      <td>0</td>\n",
              "      <td>0</td>\n",
              "      <td>0</td>\n",
              "      <td>0</td>\n",
              "      <td>0</td>\n",
              "      <td>0</td>\n",
              "      <td>0</td>\n",
              "      <td>0</td>\n",
              "      <td>0</td>\n",
              "      <td>0</td>\n",
              "      <td>0</td>\n",
              "      <td>0</td>\n",
              "      <td>0</td>\n",
              "      <td>0</td>\n",
              "      <td>0</td>\n",
              "    </tr>\n",
              "    <tr>\n",
              "      <th>CI23480</th>\n",
              "      <td>0</td>\n",
              "      <td>0</td>\n",
              "      <td>1</td>\n",
              "      <td>0</td>\n",
              "      <td>0</td>\n",
              "      <td>0</td>\n",
              "      <td>0</td>\n",
              "      <td>0</td>\n",
              "      <td>0</td>\n",
              "      <td>0</td>\n",
              "      <td>0</td>\n",
              "      <td>0</td>\n",
              "      <td>0</td>\n",
              "      <td>0</td>\n",
              "      <td>0</td>\n",
              "      <td>0</td>\n",
              "      <td>0</td>\n",
              "      <td>0</td>\n",
              "      <td>0</td>\n",
              "      <td>0</td>\n",
              "      <td>0</td>\n",
              "      <td>0</td>\n",
              "      <td>0</td>\n",
              "      <td>0</td>\n",
              "      <td>0</td>\n",
              "      <td>0</td>\n",
              "      <td>0</td>\n",
              "      <td>0</td>\n",
              "      <td>0</td>\n",
              "      <td>0</td>\n",
              "      <td>0</td>\n",
              "      <td>0</td>\n",
              "      <td>0</td>\n",
              "      <td>0</td>\n",
              "      <td>0</td>\n",
              "      <td>0</td>\n",
              "      <td>0</td>\n",
              "      <td>0</td>\n",
              "      <td>0</td>\n",
              "      <td>0</td>\n",
              "      <td>...</td>\n",
              "      <td>0</td>\n",
              "      <td>0</td>\n",
              "      <td>0</td>\n",
              "      <td>0</td>\n",
              "      <td>0</td>\n",
              "      <td>0</td>\n",
              "      <td>0</td>\n",
              "      <td>0</td>\n",
              "      <td>0</td>\n",
              "      <td>0</td>\n",
              "      <td>0</td>\n",
              "      <td>0</td>\n",
              "      <td>0</td>\n",
              "      <td>0</td>\n",
              "      <td>0</td>\n",
              "      <td>0</td>\n",
              "      <td>0</td>\n",
              "      <td>0</td>\n",
              "      <td>0</td>\n",
              "      <td>0</td>\n",
              "      <td>0</td>\n",
              "      <td>0</td>\n",
              "      <td>0</td>\n",
              "      <td>0</td>\n",
              "      <td>0</td>\n",
              "      <td>0</td>\n",
              "      <td>0</td>\n",
              "      <td>0</td>\n",
              "      <td>0</td>\n",
              "      <td>0</td>\n",
              "      <td>0</td>\n",
              "      <td>0</td>\n",
              "      <td>0</td>\n",
              "      <td>0</td>\n",
              "      <td>0</td>\n",
              "      <td>0</td>\n",
              "      <td>0</td>\n",
              "      <td>0</td>\n",
              "      <td>0</td>\n",
              "      <td>0</td>\n",
              "    </tr>\n",
              "    <tr>\n",
              "      <th>CI23481</th>\n",
              "      <td>0</td>\n",
              "      <td>0</td>\n",
              "      <td>0</td>\n",
              "      <td>1</td>\n",
              "      <td>0</td>\n",
              "      <td>0</td>\n",
              "      <td>0</td>\n",
              "      <td>0</td>\n",
              "      <td>0</td>\n",
              "      <td>0</td>\n",
              "      <td>0</td>\n",
              "      <td>0</td>\n",
              "      <td>0</td>\n",
              "      <td>0</td>\n",
              "      <td>0</td>\n",
              "      <td>0</td>\n",
              "      <td>0</td>\n",
              "      <td>0</td>\n",
              "      <td>0</td>\n",
              "      <td>0</td>\n",
              "      <td>0</td>\n",
              "      <td>0</td>\n",
              "      <td>0</td>\n",
              "      <td>0</td>\n",
              "      <td>0</td>\n",
              "      <td>0</td>\n",
              "      <td>0</td>\n",
              "      <td>0</td>\n",
              "      <td>0</td>\n",
              "      <td>0</td>\n",
              "      <td>0</td>\n",
              "      <td>0</td>\n",
              "      <td>0</td>\n",
              "      <td>0</td>\n",
              "      <td>0</td>\n",
              "      <td>0</td>\n",
              "      <td>0</td>\n",
              "      <td>0</td>\n",
              "      <td>0</td>\n",
              "      <td>0</td>\n",
              "      <td>...</td>\n",
              "      <td>0</td>\n",
              "      <td>0</td>\n",
              "      <td>0</td>\n",
              "      <td>0</td>\n",
              "      <td>0</td>\n",
              "      <td>0</td>\n",
              "      <td>0</td>\n",
              "      <td>0</td>\n",
              "      <td>0</td>\n",
              "      <td>0</td>\n",
              "      <td>0</td>\n",
              "      <td>0</td>\n",
              "      <td>0</td>\n",
              "      <td>0</td>\n",
              "      <td>0</td>\n",
              "      <td>0</td>\n",
              "      <td>0</td>\n",
              "      <td>0</td>\n",
              "      <td>0</td>\n",
              "      <td>0</td>\n",
              "      <td>0</td>\n",
              "      <td>0</td>\n",
              "      <td>0</td>\n",
              "      <td>0</td>\n",
              "      <td>0</td>\n",
              "      <td>0</td>\n",
              "      <td>0</td>\n",
              "      <td>0</td>\n",
              "      <td>0</td>\n",
              "      <td>0</td>\n",
              "      <td>0</td>\n",
              "      <td>0</td>\n",
              "      <td>0</td>\n",
              "      <td>0</td>\n",
              "      <td>0</td>\n",
              "      <td>0</td>\n",
              "      <td>0</td>\n",
              "      <td>0</td>\n",
              "      <td>0</td>\n",
              "      <td>0</td>\n",
              "    </tr>\n",
              "    <tr>\n",
              "      <th>CI23482</th>\n",
              "      <td>0</td>\n",
              "      <td>0</td>\n",
              "      <td>0</td>\n",
              "      <td>0</td>\n",
              "      <td>1</td>\n",
              "      <td>0</td>\n",
              "      <td>0</td>\n",
              "      <td>0</td>\n",
              "      <td>0</td>\n",
              "      <td>0</td>\n",
              "      <td>0</td>\n",
              "      <td>0</td>\n",
              "      <td>0</td>\n",
              "      <td>0</td>\n",
              "      <td>0</td>\n",
              "      <td>0</td>\n",
              "      <td>0</td>\n",
              "      <td>0</td>\n",
              "      <td>0</td>\n",
              "      <td>0</td>\n",
              "      <td>0</td>\n",
              "      <td>0</td>\n",
              "      <td>0</td>\n",
              "      <td>0</td>\n",
              "      <td>0</td>\n",
              "      <td>0</td>\n",
              "      <td>0</td>\n",
              "      <td>0</td>\n",
              "      <td>0</td>\n",
              "      <td>0</td>\n",
              "      <td>0</td>\n",
              "      <td>0</td>\n",
              "      <td>0</td>\n",
              "      <td>0</td>\n",
              "      <td>0</td>\n",
              "      <td>0</td>\n",
              "      <td>0</td>\n",
              "      <td>0</td>\n",
              "      <td>0</td>\n",
              "      <td>0</td>\n",
              "      <td>...</td>\n",
              "      <td>0</td>\n",
              "      <td>0</td>\n",
              "      <td>0</td>\n",
              "      <td>0</td>\n",
              "      <td>0</td>\n",
              "      <td>0</td>\n",
              "      <td>0</td>\n",
              "      <td>0</td>\n",
              "      <td>0</td>\n",
              "      <td>0</td>\n",
              "      <td>0</td>\n",
              "      <td>0</td>\n",
              "      <td>0</td>\n",
              "      <td>0</td>\n",
              "      <td>0</td>\n",
              "      <td>0</td>\n",
              "      <td>0</td>\n",
              "      <td>0</td>\n",
              "      <td>0</td>\n",
              "      <td>0</td>\n",
              "      <td>0</td>\n",
              "      <td>0</td>\n",
              "      <td>0</td>\n",
              "      <td>0</td>\n",
              "      <td>0</td>\n",
              "      <td>0</td>\n",
              "      <td>0</td>\n",
              "      <td>0</td>\n",
              "      <td>0</td>\n",
              "      <td>0</td>\n",
              "      <td>0</td>\n",
              "      <td>0</td>\n",
              "      <td>0</td>\n",
              "      <td>0</td>\n",
              "      <td>0</td>\n",
              "      <td>0</td>\n",
              "      <td>0</td>\n",
              "      <td>0</td>\n",
              "      <td>0</td>\n",
              "      <td>0</td>\n",
              "    </tr>\n",
              "  </tbody>\n",
              "</table>\n",
              "<p>5 rows × 5606 columns</p>\n",
              "</div>"
            ],
            "text/plain": [
              "              CI23478  CI23479  CI23480  ...  CI29081  CI29082  CI29083\n",
              "challenge_ID                             ...                           \n",
              "CI23478             1        0        0  ...        0        0        0\n",
              "CI23479             0        1        0  ...        0        0        0\n",
              "CI23480             0        0        1  ...        0        0        0\n",
              "CI23481             0        0        0  ...        0        0        0\n",
              "CI23482             0        0        0  ...        0        0        0\n",
              "\n",
              "[5 rows x 5606 columns]"
            ]
          },
          "metadata": {
            "tags": []
          },
          "execution_count": 42
        }
      ]
    },
    {
      "cell_type": "code",
      "metadata": {
        "id": "gFjYDv7jrBtb",
        "colab_type": "code",
        "colab": {}
      },
      "source": [
        "chall2num = dict()\n",
        "num2chall = dict()\n",
        "for num, col in enumerate(Ymap.columns):\n",
        "    chall2num[col] = num\n",
        "    num2chall[num] = col"
      ],
      "execution_count": 43,
      "outputs": []
    },
    {
      "cell_type": "markdown",
      "metadata": {
        "id": "MptkiTchrBte",
        "colab_type": "text"
      },
      "source": [
        "### indices of X and Y"
      ]
    },
    {
      "cell_type": "code",
      "metadata": {
        "id": "4i9BODDqrBte",
        "colab_type": "code",
        "colab": {}
      },
      "source": [
        "# map of train data\n",
        "train.set_index('user_sequence', inplace=True)\n",
        "test.set_index('user_sequence', inplace=True)"
      ],
      "execution_count": 44,
      "outputs": []
    },
    {
      "cell_type": "code",
      "metadata": {
        "id": "XU1PPH6XrBti",
        "colab_type": "code",
        "colab": {
          "base_uri": "https://localhost:8080/",
          "height": 235
        },
        "outputId": "5c40c87b-8174-4591-b998-c42ca25aaac0"
      },
      "source": [
        "train.head()"
      ],
      "execution_count": 45,
      "outputs": [
        {
          "output_type": "execute_result",
          "data": {
            "text/html": [
              "<div>\n",
              "<style scoped>\n",
              "    .dataframe tbody tr th:only-of-type {\n",
              "        vertical-align: middle;\n",
              "    }\n",
              "\n",
              "    .dataframe tbody tr th {\n",
              "        vertical-align: top;\n",
              "    }\n",
              "\n",
              "    .dataframe thead th {\n",
              "        text-align: right;\n",
              "    }\n",
              "</style>\n",
              "<table border=\"1\" class=\"dataframe\">\n",
              "  <thead>\n",
              "    <tr style=\"text-align: right;\">\n",
              "      <th></th>\n",
              "      <th>user_id</th>\n",
              "      <th>challenge_sequence</th>\n",
              "      <th>challenge</th>\n",
              "    </tr>\n",
              "    <tr>\n",
              "      <th>user_sequence</th>\n",
              "      <th></th>\n",
              "      <th></th>\n",
              "      <th></th>\n",
              "    </tr>\n",
              "  </thead>\n",
              "  <tbody>\n",
              "    <tr>\n",
              "      <th>4576_1</th>\n",
              "      <td>4576</td>\n",
              "      <td>1</td>\n",
              "      <td>CI23714</td>\n",
              "    </tr>\n",
              "    <tr>\n",
              "      <th>4576_2</th>\n",
              "      <td>4576</td>\n",
              "      <td>2</td>\n",
              "      <td>CI23855</td>\n",
              "    </tr>\n",
              "    <tr>\n",
              "      <th>4576_3</th>\n",
              "      <td>4576</td>\n",
              "      <td>3</td>\n",
              "      <td>CI24917</td>\n",
              "    </tr>\n",
              "    <tr>\n",
              "      <th>4576_4</th>\n",
              "      <td>4576</td>\n",
              "      <td>4</td>\n",
              "      <td>CI23663</td>\n",
              "    </tr>\n",
              "    <tr>\n",
              "      <th>4576_5</th>\n",
              "      <td>4576</td>\n",
              "      <td>5</td>\n",
              "      <td>CI23933</td>\n",
              "    </tr>\n",
              "  </tbody>\n",
              "</table>\n",
              "</div>"
            ],
            "text/plain": [
              "               user_id  challenge_sequence challenge\n",
              "user_sequence                                       \n",
              "4576_1            4576                   1   CI23714\n",
              "4576_2            4576                   2   CI23855\n",
              "4576_3            4576                   3   CI24917\n",
              "4576_4            4576                   4   CI23663\n",
              "4576_5            4576                   5   CI23933"
            ]
          },
          "metadata": {
            "tags": []
          },
          "execution_count": 45
        }
      ]
    },
    {
      "cell_type": "code",
      "metadata": {
        "id": "xtXW2c9frBtl",
        "colab_type": "code",
        "colab": {}
      },
      "source": [
        "def create_train_samples(train):\n",
        "    uid_train = train['user_id'].unique()\n",
        "    Xtrain = list()\n",
        "    Y = list()\n",
        "\n",
        "    for uid in tqdm(uid_train):\n",
        "        lst1 = list(); lst2 = list(); lst3= list()\n",
        "        for idx in range(1,11):\n",
        "            lst1.append(chall2num[train['challenge'].loc[str(uid)+'_'+str(idx)]])\n",
        "            lst2.append(chall2num[train['challenge'].loc[str(uid)+'_'+str(idx+1)]])\n",
        "            lst3.append(chall2num[train['challenge'].loc[str(uid)+'_'+str(idx+2)]])\n",
        "        Xtrain.append(lst1)\n",
        "        Y.append(Ymap.loc[train['challenge'].loc[str(uid)+'_'+str(11)]])\n",
        "        Xtrain.append(lst2)\n",
        "        Y.append(Ymap.loc[train['challenge'].loc[str(uid)+'_'+str(12)]])\n",
        "        Xtrain.append(lst3)\n",
        "        Y.append(Ymap.loc[train['challenge'].loc[str(uid)+'_'+str(13)]])\n",
        "        \n",
        "    return Xtrain, Y"
      ],
      "execution_count": 46,
      "outputs": []
    },
    {
      "cell_type": "code",
      "metadata": {
        "id": "f-egAsoMrBtq",
        "colab_type": "code",
        "colab": {
          "base_uri": "https://localhost:8080/",
          "height": 34
        },
        "outputId": "1455ad89-b92e-4eb9-b847-17a21abd62da"
      },
      "source": [
        "X, Y = create_train_samples(train)"
      ],
      "execution_count": 48,
      "outputs": [
        {
          "output_type": "stream",
          "text": [
            "100%|██████████| 69532/69532 [02:25<00:00, 479.08it/s]\n"
          ],
          "name": "stderr"
        }
      ]
    },
    {
      "cell_type": "code",
      "metadata": {
        "id": "HToFEpDYrBts",
        "colab_type": "code",
        "colab": {}
      },
      "source": [
        "X, Y = np.array(X), np.array(Y)"
      ],
      "execution_count": 49,
      "outputs": []
    },
    {
      "cell_type": "markdown",
      "metadata": {
        "id": "XbVUF-GN6hf9",
        "colab_type": "text"
      },
      "source": [
        "## Create Model"
      ]
    },
    {
      "cell_type": "code",
      "metadata": {
        "id": "0Sg7I44OAyh9",
        "colab_type": "code",
        "colab": {
          "base_uri": "https://localhost:8080/",
          "height": 391
        },
        "outputId": "84d56159-78fa-45de-a7c1-bce8975f1a4c"
      },
      "source": [
        "# create sequential model instance\n",
        "model = Sequential()\n",
        "# embedding layer\n",
        "model.add(Embedding(5606, 512, input_length=10))\n",
        "# add lstm layers\n",
        "model.add(LSTM(512, return_sequences=True))\n",
        "model.add(Dropout(0.2))\n",
        "# 2nd layer\n",
        "model.add(LSTM(512, return_sequences=True))\n",
        "model.add(Dropout(0.2))\n",
        "# # 3rd layer\n",
        "# model.add(LSTM(256, return_sequences=True))\n",
        "# model.add(Dropout(0.2))\n",
        "# # 4th layer\n",
        "# model.add(LSTM(256, return_sequences=True))\n",
        "# model.add(Dropout(0.2))\n",
        "# add dense time distributed dense layer\n",
        "model.add(Flatten())\n",
        "model.add(Dense(5606, activation='softmax'))\n",
        "# model summary\n",
        "model.summary()\n",
        "# compile model\n",
        "model.compile(loss='categorical_crossentropy', \n",
        "              optimizer='adam',\n",
        "              metrics=['accuracy'])"
      ],
      "execution_count": 58,
      "outputs": [
        {
          "output_type": "stream",
          "text": [
            "Model: \"sequential_2\"\n",
            "_________________________________________________________________\n",
            "Layer (type)                 Output Shape              Param #   \n",
            "=================================================================\n",
            "embedding_2 (Embedding)      (None, 10, 512)           2870272   \n",
            "_________________________________________________________________\n",
            "lstm_3 (LSTM)                (None, 10, 512)           2099200   \n",
            "_________________________________________________________________\n",
            "dropout_3 (Dropout)          (None, 10, 512)           0         \n",
            "_________________________________________________________________\n",
            "lstm_4 (LSTM)                (None, 10, 512)           2099200   \n",
            "_________________________________________________________________\n",
            "dropout_4 (Dropout)          (None, 10, 512)           0         \n",
            "_________________________________________________________________\n",
            "flatten_2 (Flatten)          (None, 5120)              0         \n",
            "_________________________________________________________________\n",
            "dense_2 (Dense)              (None, 5606)              28708326  \n",
            "=================================================================\n",
            "Total params: 35,776,998\n",
            "Trainable params: 35,776,998\n",
            "Non-trainable params: 0\n",
            "_________________________________________________________________\n"
          ],
          "name": "stdout"
        }
      ]
    },
    {
      "cell_type": "code",
      "metadata": {
        "id": "q-dmX3XaGW9w",
        "colab_type": "code",
        "colab": {
          "base_uri": "https://localhost:8080/",
          "height": 1000
        },
        "outputId": "134b7533-0134-4d17-9613-507d1fdf3e12"
      },
      "source": [
        "model.fit(X, Y, epochs=60, batch_size=1024, verbose=1)"
      ],
      "execution_count": 59,
      "outputs": [
        {
          "output_type": "stream",
          "text": [
            "Epoch 1/60\n",
            "208596/208596 [==============================] - 65s 310us/step - loss: 6.0009 - accuracy: 0.0265\n",
            "Epoch 2/60\n",
            "208596/208596 [==============================] - 64s 309us/step - loss: 4.9300 - accuracy: 0.0581\n",
            "Epoch 3/60\n",
            "208596/208596 [==============================] - 64s 309us/step - loss: 4.4880 - accuracy: 0.0920\n",
            "Epoch 4/60\n",
            "208596/208596 [==============================] - 64s 309us/step - loss: 4.0774 - accuracy: 0.1422\n",
            "Epoch 5/60\n",
            "208596/208596 [==============================] - 64s 309us/step - loss: 3.6300 - accuracy: 0.2097\n",
            "Epoch 6/60\n",
            "208596/208596 [==============================] - 64s 309us/step - loss: 3.1555 - accuracy: 0.2880\n",
            "Epoch 7/60\n",
            "208596/208596 [==============================] - 64s 309us/step - loss: 2.6859 - accuracy: 0.3717\n",
            "Epoch 8/60\n",
            "208596/208596 [==============================] - 64s 309us/step - loss: 2.2501 - accuracy: 0.4579\n",
            "Epoch 9/60\n",
            "208596/208596 [==============================] - 65s 309us/step - loss: 1.8699 - accuracy: 0.5378\n",
            "Epoch 10/60\n",
            "208596/208596 [==============================] - 64s 308us/step - loss: 1.5604 - accuracy: 0.6056\n",
            "Epoch 11/60\n",
            "208596/208596 [==============================] - 64s 309us/step - loss: 1.3041 - accuracy: 0.6665\n",
            "Epoch 12/60\n",
            "208596/208596 [==============================] - 64s 308us/step - loss: 1.0908 - accuracy: 0.7178\n",
            "Epoch 13/60\n",
            "208596/208596 [==============================] - 64s 309us/step - loss: 0.9171 - accuracy: 0.7615\n",
            "Epoch 14/60\n",
            "208596/208596 [==============================] - 65s 309us/step - loss: 0.7797 - accuracy: 0.7972\n",
            "Epoch 15/60\n",
            "208596/208596 [==============================] - 64s 309us/step - loss: 0.6582 - accuracy: 0.8275\n",
            "Epoch 16/60\n",
            "208596/208596 [==============================] - 64s 309us/step - loss: 0.5577 - accuracy: 0.8550\n",
            "Epoch 17/60\n",
            "208596/208596 [==============================] - 64s 309us/step - loss: 0.4785 - accuracy: 0.8766\n",
            "Epoch 18/60\n",
            "208596/208596 [==============================] - 64s 309us/step - loss: 0.4125 - accuracy: 0.8934\n",
            "Epoch 19/60\n",
            "208596/208596 [==============================] - 64s 309us/step - loss: 0.3625 - accuracy: 0.9066\n",
            "Epoch 20/60\n",
            "208596/208596 [==============================] - 64s 309us/step - loss: 0.3173 - accuracy: 0.9183\n",
            "Epoch 21/60\n",
            "208596/208596 [==============================] - 64s 309us/step - loss: 0.2862 - accuracy: 0.9273\n",
            "Epoch 22/60\n",
            "208596/208596 [==============================] - 65s 310us/step - loss: 0.2563 - accuracy: 0.9353\n",
            "Epoch 23/60\n",
            "208596/208596 [==============================] - 65s 309us/step - loss: 0.2344 - accuracy: 0.9409\n",
            "Epoch 24/60\n",
            "208596/208596 [==============================] - 64s 309us/step - loss: 0.2127 - accuracy: 0.9464\n",
            "Epoch 25/60\n",
            "208596/208596 [==============================] - 65s 309us/step - loss: 0.2010 - accuracy: 0.9493\n",
            "Epoch 26/60\n",
            "208596/208596 [==============================] - 65s 309us/step - loss: 0.1864 - accuracy: 0.9531\n",
            "Epoch 27/60\n",
            "208596/208596 [==============================] - 65s 309us/step - loss: 0.1797 - accuracy: 0.9539\n",
            "Epoch 28/60\n",
            "208596/208596 [==============================] - 65s 310us/step - loss: 0.1701 - accuracy: 0.9567\n",
            "Epoch 29/60\n",
            "208596/208596 [==============================] - 64s 309us/step - loss: 0.1622 - accuracy: 0.9588\n",
            "Epoch 30/60\n",
            "208596/208596 [==============================] - 65s 309us/step - loss: 0.1616 - accuracy: 0.9579\n",
            "Epoch 31/60\n",
            "208596/208596 [==============================] - 64s 309us/step - loss: 0.1524 - accuracy: 0.9601\n",
            "Epoch 32/60\n",
            "208596/208596 [==============================] - 64s 309us/step - loss: 0.1520 - accuracy: 0.9596\n",
            "Epoch 33/60\n",
            "208596/208596 [==============================] - 64s 309us/step - loss: 0.1446 - accuracy: 0.9617\n",
            "Epoch 34/60\n",
            "208596/208596 [==============================] - 64s 309us/step - loss: 0.1389 - accuracy: 0.9634\n",
            "Epoch 35/60\n",
            "208596/208596 [==============================] - 64s 309us/step - loss: 0.1377 - accuracy: 0.9632\n",
            "Epoch 36/60\n",
            "208596/208596 [==============================] - 64s 309us/step - loss: 0.1347 - accuracy: 0.9641\n",
            "Epoch 37/60\n",
            "208596/208596 [==============================] - 64s 309us/step - loss: 0.1308 - accuracy: 0.9647\n",
            "Epoch 38/60\n",
            "208596/208596 [==============================] - 64s 309us/step - loss: 0.1279 - accuracy: 0.9653\n",
            "Epoch 39/60\n",
            "208596/208596 [==============================] - 64s 309us/step - loss: 0.1271 - accuracy: 0.9650\n",
            "Epoch 40/60\n",
            "208596/208596 [==============================] - 64s 309us/step - loss: 0.1250 - accuracy: 0.9661\n",
            "Epoch 41/60\n",
            "208596/208596 [==============================] - 64s 309us/step - loss: 0.1242 - accuracy: 0.9662\n",
            "Epoch 42/60\n",
            "208596/208596 [==============================] - 64s 309us/step - loss: 0.1220 - accuracy: 0.9662\n",
            "Epoch 43/60\n",
            "208596/208596 [==============================] - 64s 309us/step - loss: 0.1191 - accuracy: 0.9672\n",
            "Epoch 44/60\n",
            "208596/208596 [==============================] - 64s 309us/step - loss: 0.1154 - accuracy: 0.9679\n",
            "Epoch 45/60\n",
            "208596/208596 [==============================] - 64s 309us/step - loss: 0.1134 - accuracy: 0.9686\n",
            "Epoch 46/60\n",
            "208596/208596 [==============================] - 64s 309us/step - loss: 0.1145 - accuracy: 0.9677\n",
            "Epoch 47/60\n",
            "208596/208596 [==============================] - 64s 309us/step - loss: 0.1119 - accuracy: 0.9682\n",
            "Epoch 48/60\n",
            "208596/208596 [==============================] - 64s 309us/step - loss: 0.1111 - accuracy: 0.9681\n",
            "Epoch 49/60\n",
            "208596/208596 [==============================] - 64s 309us/step - loss: 0.1126 - accuracy: 0.9681\n",
            "Epoch 50/60\n",
            "208596/208596 [==============================] - 64s 309us/step - loss: 0.1086 - accuracy: 0.9696\n",
            "Epoch 51/60\n",
            "208596/208596 [==============================] - 65s 309us/step - loss: 0.1057 - accuracy: 0.9698\n",
            "Epoch 52/60\n",
            "208596/208596 [==============================] - 65s 310us/step - loss: 0.1096 - accuracy: 0.9686\n",
            "Epoch 53/60\n",
            "208596/208596 [==============================] - 64s 309us/step - loss: 0.1056 - accuracy: 0.9700\n",
            "Epoch 54/60\n",
            "208596/208596 [==============================] - 64s 309us/step - loss: 0.1056 - accuracy: 0.9695\n",
            "Epoch 55/60\n",
            "208596/208596 [==============================] - 64s 309us/step - loss: 0.1071 - accuracy: 0.9690\n",
            "Epoch 56/60\n",
            "208596/208596 [==============================] - 64s 309us/step - loss: 0.1021 - accuracy: 0.9708\n",
            "Epoch 57/60\n",
            "208596/208596 [==============================] - 64s 308us/step - loss: 0.0996 - accuracy: 0.9709\n",
            "Epoch 58/60\n",
            "208596/208596 [==============================] - 64s 308us/step - loss: 0.0989 - accuracy: 0.9715\n",
            "Epoch 59/60\n",
            "208596/208596 [==============================] - 64s 308us/step - loss: 0.1003 - accuracy: 0.9712\n",
            "Epoch 60/60\n",
            "208596/208596 [==============================] - 64s 308us/step - loss: 0.1002 - accuracy: 0.9711\n"
          ],
          "name": "stdout"
        },
        {
          "output_type": "execute_result",
          "data": {
            "text/plain": [
              "<keras.callbacks.callbacks.History at 0x7f721c83b828>"
            ]
          },
          "metadata": {
            "tags": []
          },
          "execution_count": 59
        }
      ]
    },
    {
      "cell_type": "code",
      "metadata": {
        "id": "7tmD6y66Lgjo",
        "colab_type": "code",
        "colab": {}
      },
      "source": [
        "# create test data set\n",
        "def create_test_samples(test, start, end, uid_test):\n",
        "    # uid_test = test['user_id'].unique()\n",
        "    Xtest = list()\n",
        "\n",
        "    for uid in tqdm(uid_test):\n",
        "        lst1 = list()\n",
        "        for idx in range(start,end):\n",
        "            lst1.append(chall2num[test['challenge'].loc[str(uid)+'_'+str(idx)]])\n",
        "        Xtest.append(lst1)\n",
        "        \n",
        "    return Xtest\n",
        "\n",
        "# predict next challenge\n",
        "def predict_next_challenge(Xtest, model, num2chall):\n",
        "    pred = model.predict(Xtest)\n",
        "    pred = np.argmax(pred, axis=1)\n",
        "    pred = [num2chall[item] for item in pred]\n",
        "    return pred\n",
        "\n",
        "# create predicted data frame\n",
        "def predicted_df(uid_test, pred, end):\n",
        "    user_sequence = [str(uid)+'_'+str(end) for uid in uid_test]\n",
        "    challenge_sequence = [end]*uid_test.shape[0]\n",
        "    df = pd.DataFrame({'user_id': uid_test,\n",
        "                       'challenge_sequence': challenge_sequence,\n",
        "                       'challenge': pred}, index=user_sequence)\n",
        "    return df\n",
        "\n",
        "# predict test data\n",
        "def predict_3_challenges(test, model, num2chall):\n",
        "    uid_test = test['user_id'].unique()\n",
        "    # dummy_data = cp.deepcopy(test)\n",
        "\n",
        "    # loop over test data to predict next 3 challenges\n",
        "    for i in range(1,4):\n",
        "      start = i\n",
        "      end = i+10\n",
        "      Xtest = create_test_samples(test, start, end, uid_test)\n",
        "      Xtest = np.array(Xtest)\n",
        "      pred = predict_next_challenge(Xtest, model, num2chall)\n",
        "      df = predicted_df(uid_test, pred, end)\n",
        "      test = pd.concat([test, df])\n",
        "\n",
        "    return test"
      ],
      "execution_count": 60,
      "outputs": []
    },
    {
      "cell_type": "code",
      "metadata": {
        "id": "NLRROnpl45CF",
        "colab_type": "code",
        "colab": {
          "base_uri": "https://localhost:8080/",
          "height": 68
        },
        "outputId": "750a3275-33f0-4eea-afc8-3d48ec3294a5"
      },
      "source": [
        "test_final = predict_3_challenges(test,model,num2chall)"
      ],
      "execution_count": 61,
      "outputs": [
        {
          "output_type": "stream",
          "text": [
            "100%|██████████| 39732/39732 [00:15<00:00, 2603.42it/s]\n",
            "100%|██████████| 39732/39732 [00:15<00:00, 2628.95it/s]\n",
            "100%|██████████| 39732/39732 [00:15<00:00, 2628.95it/s]\n"
          ],
          "name": "stderr"
        }
      ]
    },
    {
      "cell_type": "markdown",
      "metadata": {
        "id": "vteh74367f_n",
        "colab_type": "text"
      },
      "source": [
        "## Submissions"
      ]
    },
    {
      "cell_type": "code",
      "metadata": {
        "id": "APLyWcZEMa9S",
        "colab_type": "code",
        "colab": {}
      },
      "source": [
        "test_final = test_final[test_final['challenge_sequence'] > 10]"
      ],
      "execution_count": 62,
      "outputs": []
    },
    {
      "cell_type": "code",
      "metadata": {
        "id": "UQMqoiDx7TbU",
        "colab_type": "code",
        "colab": {
          "base_uri": "https://localhost:8080/",
          "height": 204
        },
        "outputId": "e8546fcf-492a-4d17-9605-0ee4a115201e"
      },
      "source": [
        "test_final.head()"
      ],
      "execution_count": 63,
      "outputs": [
        {
          "output_type": "execute_result",
          "data": {
            "text/html": [
              "<div>\n",
              "<style scoped>\n",
              "    .dataframe tbody tr th:only-of-type {\n",
              "        vertical-align: middle;\n",
              "    }\n",
              "\n",
              "    .dataframe tbody tr th {\n",
              "        vertical-align: top;\n",
              "    }\n",
              "\n",
              "    .dataframe thead th {\n",
              "        text-align: right;\n",
              "    }\n",
              "</style>\n",
              "<table border=\"1\" class=\"dataframe\">\n",
              "  <thead>\n",
              "    <tr style=\"text-align: right;\">\n",
              "      <th></th>\n",
              "      <th>user_id</th>\n",
              "      <th>challenge_sequence</th>\n",
              "      <th>challenge</th>\n",
              "    </tr>\n",
              "  </thead>\n",
              "  <tbody>\n",
              "    <tr>\n",
              "      <th>4577_11</th>\n",
              "      <td>4577</td>\n",
              "      <td>11</td>\n",
              "      <td>CI24530</td>\n",
              "    </tr>\n",
              "    <tr>\n",
              "      <th>4578_11</th>\n",
              "      <td>4578</td>\n",
              "      <td>11</td>\n",
              "      <td>CI24530</td>\n",
              "    </tr>\n",
              "    <tr>\n",
              "      <th>4579_11</th>\n",
              "      <td>4579</td>\n",
              "      <td>11</td>\n",
              "      <td>CI26959</td>\n",
              "    </tr>\n",
              "    <tr>\n",
              "      <th>4583_11</th>\n",
              "      <td>4583</td>\n",
              "      <td>11</td>\n",
              "      <td>CI24917</td>\n",
              "    </tr>\n",
              "    <tr>\n",
              "      <th>4584_11</th>\n",
              "      <td>4584</td>\n",
              "      <td>11</td>\n",
              "      <td>CI24530</td>\n",
              "    </tr>\n",
              "  </tbody>\n",
              "</table>\n",
              "</div>"
            ],
            "text/plain": [
              "         user_id  challenge_sequence challenge\n",
              "4577_11     4577                  11   CI24530\n",
              "4578_11     4578                  11   CI24530\n",
              "4579_11     4579                  11   CI26959\n",
              "4583_11     4583                  11   CI24917\n",
              "4584_11     4584                  11   CI24530"
            ]
          },
          "metadata": {
            "tags": []
          },
          "execution_count": 63
        }
      ]
    },
    {
      "cell_type": "code",
      "metadata": {
        "id": "wwIzDGj-7XEw",
        "colab_type": "code",
        "colab": {}
      },
      "source": [
        "submission = pd.DataFrame({'user_sequence': test_final.index,\n",
        "                           'challenge': test_final['challenge']})"
      ],
      "execution_count": 64,
      "outputs": []
    },
    {
      "cell_type": "code",
      "metadata": {
        "id": "Rim69400702M",
        "colab_type": "code",
        "colab": {}
      },
      "source": [
        "submission.to_csv(test_dir+'/Submission5.csv', index=False)"
      ],
      "execution_count": 65,
      "outputs": []
    },
    {
      "cell_type": "code",
      "metadata": {
        "id": "fimD8rIi78JW",
        "colab_type": "code",
        "colab": {}
      },
      "source": [
        ""
      ],
      "execution_count": null,
      "outputs": []
    }
  ]
}